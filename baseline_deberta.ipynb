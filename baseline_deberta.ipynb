{
  "nbformat": 4,
  "nbformat_minor": 0,
  "metadata": {
    "colab": {
      "name": "baseline-deberta.ipynb",
      "provenance": [],
      "toc_visible": true,
      "machine_shape": "hm",
      "mount_file_id": "https://github.com/xiaoyufan/nbme/blob/main/baseline_deberta.ipynb",
      "authorship_tag": "ABX9TyNnJEID9wa8FDuIMVcYtBmj",
      "include_colab_link": true
    },
    "kernelspec": {
      "name": "python3",
      "display_name": "Python 3"
    },
    "language_info": {
      "name": "python"
    },
    "widgets": {
      "application/vnd.jupyter.widget-state+json": {
        "619096296f1e4eecb6497011ca276c2f": {
          "model_module": "@jupyter-widgets/controls",
          "model_name": "HBoxModel",
          "model_module_version": "1.5.0",
          "state": {
            "_dom_classes": [],
            "_model_module": "@jupyter-widgets/controls",
            "_model_module_version": "1.5.0",
            "_model_name": "HBoxModel",
            "_view_count": null,
            "_view_module": "@jupyter-widgets/controls",
            "_view_module_version": "1.5.0",
            "_view_name": "HBoxView",
            "box_style": "",
            "children": [
              "IPY_MODEL_8625131dd12a44fc967c366a4550599d",
              "IPY_MODEL_08e28b73989d454fa45b03b3f4462b7f",
              "IPY_MODEL_5e4e577ac270410da8c21422837f068f"
            ],
            "layout": "IPY_MODEL_4c214ca5c9354d44a22ef4560093e69b"
          }
        },
        "8625131dd12a44fc967c366a4550599d": {
          "model_module": "@jupyter-widgets/controls",
          "model_name": "HTMLModel",
          "model_module_version": "1.5.0",
          "state": {
            "_dom_classes": [],
            "_model_module": "@jupyter-widgets/controls",
            "_model_module_version": "1.5.0",
            "_model_name": "HTMLModel",
            "_view_count": null,
            "_view_module": "@jupyter-widgets/controls",
            "_view_module_version": "1.5.0",
            "_view_name": "HTMLView",
            "description": "",
            "description_tooltip": null,
            "layout": "IPY_MODEL_570754717d1c42dd87c0415125ab113b",
            "placeholder": "​",
            "style": "IPY_MODEL_fdc02845057f4675b27c75e97c17e36e",
            "value": "100%"
          }
        },
        "08e28b73989d454fa45b03b3f4462b7f": {
          "model_module": "@jupyter-widgets/controls",
          "model_name": "FloatProgressModel",
          "model_module_version": "1.5.0",
          "state": {
            "_dom_classes": [],
            "_model_module": "@jupyter-widgets/controls",
            "_model_module_version": "1.5.0",
            "_model_name": "FloatProgressModel",
            "_view_count": null,
            "_view_module": "@jupyter-widgets/controls",
            "_view_module_version": "1.5.0",
            "_view_name": "ProgressView",
            "bar_style": "success",
            "description": "",
            "description_tooltip": null,
            "layout": "IPY_MODEL_db766e2a7d1b41cdacccd95bcf202522",
            "max": 1418,
            "min": 0,
            "orientation": "horizontal",
            "style": "IPY_MODEL_cf88463e2b8a484f9a732da161621b02",
            "value": 1418
          }
        },
        "5e4e577ac270410da8c21422837f068f": {
          "model_module": "@jupyter-widgets/controls",
          "model_name": "HTMLModel",
          "model_module_version": "1.5.0",
          "state": {
            "_dom_classes": [],
            "_model_module": "@jupyter-widgets/controls",
            "_model_module_version": "1.5.0",
            "_model_name": "HTMLModel",
            "_view_count": null,
            "_view_module": "@jupyter-widgets/controls",
            "_view_module_version": "1.5.0",
            "_view_name": "HTMLView",
            "description": "",
            "description_tooltip": null,
            "layout": "IPY_MODEL_3cc664cd9d454c05884c47681c9a751f",
            "placeholder": "​",
            "style": "IPY_MODEL_e3e7d5a692ee4e178d9ec8f59aefb255",
            "value": " 1418/1418 [07:05&lt;00:00,  3.60it/s]"
          }
        },
        "4c214ca5c9354d44a22ef4560093e69b": {
          "model_module": "@jupyter-widgets/base",
          "model_name": "LayoutModel",
          "model_module_version": "1.2.0",
          "state": {
            "_model_module": "@jupyter-widgets/base",
            "_model_module_version": "1.2.0",
            "_model_name": "LayoutModel",
            "_view_count": null,
            "_view_module": "@jupyter-widgets/base",
            "_view_module_version": "1.2.0",
            "_view_name": "LayoutView",
            "align_content": null,
            "align_items": null,
            "align_self": null,
            "border": null,
            "bottom": null,
            "display": null,
            "flex": null,
            "flex_flow": null,
            "grid_area": null,
            "grid_auto_columns": null,
            "grid_auto_flow": null,
            "grid_auto_rows": null,
            "grid_column": null,
            "grid_gap": null,
            "grid_row": null,
            "grid_template_areas": null,
            "grid_template_columns": null,
            "grid_template_rows": null,
            "height": null,
            "justify_content": null,
            "justify_items": null,
            "left": null,
            "margin": null,
            "max_height": null,
            "max_width": null,
            "min_height": null,
            "min_width": null,
            "object_fit": null,
            "object_position": null,
            "order": null,
            "overflow": null,
            "overflow_x": null,
            "overflow_y": null,
            "padding": null,
            "right": null,
            "top": null,
            "visibility": null,
            "width": null
          }
        },
        "570754717d1c42dd87c0415125ab113b": {
          "model_module": "@jupyter-widgets/base",
          "model_name": "LayoutModel",
          "model_module_version": "1.2.0",
          "state": {
            "_model_module": "@jupyter-widgets/base",
            "_model_module_version": "1.2.0",
            "_model_name": "LayoutModel",
            "_view_count": null,
            "_view_module": "@jupyter-widgets/base",
            "_view_module_version": "1.2.0",
            "_view_name": "LayoutView",
            "align_content": null,
            "align_items": null,
            "align_self": null,
            "border": null,
            "bottom": null,
            "display": null,
            "flex": null,
            "flex_flow": null,
            "grid_area": null,
            "grid_auto_columns": null,
            "grid_auto_flow": null,
            "grid_auto_rows": null,
            "grid_column": null,
            "grid_gap": null,
            "grid_row": null,
            "grid_template_areas": null,
            "grid_template_columns": null,
            "grid_template_rows": null,
            "height": null,
            "justify_content": null,
            "justify_items": null,
            "left": null,
            "margin": null,
            "max_height": null,
            "max_width": null,
            "min_height": null,
            "min_width": null,
            "object_fit": null,
            "object_position": null,
            "order": null,
            "overflow": null,
            "overflow_x": null,
            "overflow_y": null,
            "padding": null,
            "right": null,
            "top": null,
            "visibility": null,
            "width": null
          }
        },
        "fdc02845057f4675b27c75e97c17e36e": {
          "model_module": "@jupyter-widgets/controls",
          "model_name": "DescriptionStyleModel",
          "model_module_version": "1.5.0",
          "state": {
            "_model_module": "@jupyter-widgets/controls",
            "_model_module_version": "1.5.0",
            "_model_name": "DescriptionStyleModel",
            "_view_count": null,
            "_view_module": "@jupyter-widgets/base",
            "_view_module_version": "1.2.0",
            "_view_name": "StyleView",
            "description_width": ""
          }
        },
        "db766e2a7d1b41cdacccd95bcf202522": {
          "model_module": "@jupyter-widgets/base",
          "model_name": "LayoutModel",
          "model_module_version": "1.2.0",
          "state": {
            "_model_module": "@jupyter-widgets/base",
            "_model_module_version": "1.2.0",
            "_model_name": "LayoutModel",
            "_view_count": null,
            "_view_module": "@jupyter-widgets/base",
            "_view_module_version": "1.2.0",
            "_view_name": "LayoutView",
            "align_content": null,
            "align_items": null,
            "align_self": null,
            "border": null,
            "bottom": null,
            "display": null,
            "flex": null,
            "flex_flow": null,
            "grid_area": null,
            "grid_auto_columns": null,
            "grid_auto_flow": null,
            "grid_auto_rows": null,
            "grid_column": null,
            "grid_gap": null,
            "grid_row": null,
            "grid_template_areas": null,
            "grid_template_columns": null,
            "grid_template_rows": null,
            "height": null,
            "justify_content": null,
            "justify_items": null,
            "left": null,
            "margin": null,
            "max_height": null,
            "max_width": null,
            "min_height": null,
            "min_width": null,
            "object_fit": null,
            "object_position": null,
            "order": null,
            "overflow": null,
            "overflow_x": null,
            "overflow_y": null,
            "padding": null,
            "right": null,
            "top": null,
            "visibility": null,
            "width": null
          }
        },
        "cf88463e2b8a484f9a732da161621b02": {
          "model_module": "@jupyter-widgets/controls",
          "model_name": "ProgressStyleModel",
          "model_module_version": "1.5.0",
          "state": {
            "_model_module": "@jupyter-widgets/controls",
            "_model_module_version": "1.5.0",
            "_model_name": "ProgressStyleModel",
            "_view_count": null,
            "_view_module": "@jupyter-widgets/base",
            "_view_module_version": "1.2.0",
            "_view_name": "StyleView",
            "bar_color": null,
            "description_width": ""
          }
        },
        "3cc664cd9d454c05884c47681c9a751f": {
          "model_module": "@jupyter-widgets/base",
          "model_name": "LayoutModel",
          "model_module_version": "1.2.0",
          "state": {
            "_model_module": "@jupyter-widgets/base",
            "_model_module_version": "1.2.0",
            "_model_name": "LayoutModel",
            "_view_count": null,
            "_view_module": "@jupyter-widgets/base",
            "_view_module_version": "1.2.0",
            "_view_name": "LayoutView",
            "align_content": null,
            "align_items": null,
            "align_self": null,
            "border": null,
            "bottom": null,
            "display": null,
            "flex": null,
            "flex_flow": null,
            "grid_area": null,
            "grid_auto_columns": null,
            "grid_auto_flow": null,
            "grid_auto_rows": null,
            "grid_column": null,
            "grid_gap": null,
            "grid_row": null,
            "grid_template_areas": null,
            "grid_template_columns": null,
            "grid_template_rows": null,
            "height": null,
            "justify_content": null,
            "justify_items": null,
            "left": null,
            "margin": null,
            "max_height": null,
            "max_width": null,
            "min_height": null,
            "min_width": null,
            "object_fit": null,
            "object_position": null,
            "order": null,
            "overflow": null,
            "overflow_x": null,
            "overflow_y": null,
            "padding": null,
            "right": null,
            "top": null,
            "visibility": null,
            "width": null
          }
        },
        "e3e7d5a692ee4e178d9ec8f59aefb255": {
          "model_module": "@jupyter-widgets/controls",
          "model_name": "DescriptionStyleModel",
          "model_module_version": "1.5.0",
          "state": {
            "_model_module": "@jupyter-widgets/controls",
            "_model_module_version": "1.5.0",
            "_model_name": "DescriptionStyleModel",
            "_view_count": null,
            "_view_module": "@jupyter-widgets/base",
            "_view_module_version": "1.2.0",
            "_view_name": "StyleView",
            "description_width": ""
          }
        },
        "cf9c8984876e4b779261c069191a29bc": {
          "model_module": "@jupyter-widgets/controls",
          "model_name": "HBoxModel",
          "model_module_version": "1.5.0",
          "state": {
            "_dom_classes": [],
            "_model_module": "@jupyter-widgets/controls",
            "_model_module_version": "1.5.0",
            "_model_name": "HBoxModel",
            "_view_count": null,
            "_view_module": "@jupyter-widgets/controls",
            "_view_module_version": "1.5.0",
            "_view_name": "HBoxView",
            "box_style": "",
            "children": [
              "IPY_MODEL_f71b0c78404c403b95ddbdd641e50690",
              "IPY_MODEL_728a81f7f997409d9c1942f5d9c278fc",
              "IPY_MODEL_c0236c276adb4e62820f4efe930066d3"
            ],
            "layout": "IPY_MODEL_24f85d187dac4b3aa4c183de6801bcc7"
          }
        },
        "f71b0c78404c403b95ddbdd641e50690": {
          "model_module": "@jupyter-widgets/controls",
          "model_name": "HTMLModel",
          "model_module_version": "1.5.0",
          "state": {
            "_dom_classes": [],
            "_model_module": "@jupyter-widgets/controls",
            "_model_module_version": "1.5.0",
            "_model_name": "HTMLModel",
            "_view_count": null,
            "_view_module": "@jupyter-widgets/controls",
            "_view_module_version": "1.5.0",
            "_view_name": "HTMLView",
            "description": "",
            "description_tooltip": null,
            "layout": "IPY_MODEL_80509d89e8814a2393133933bb327562",
            "placeholder": "​",
            "style": "IPY_MODEL_b5064e177d7748d0b9aa75efcc246059",
            "value": "100%"
          }
        },
        "728a81f7f997409d9c1942f5d9c278fc": {
          "model_module": "@jupyter-widgets/controls",
          "model_name": "FloatProgressModel",
          "model_module_version": "1.5.0",
          "state": {
            "_dom_classes": [],
            "_model_module": "@jupyter-widgets/controls",
            "_model_module_version": "1.5.0",
            "_model_name": "FloatProgressModel",
            "_view_count": null,
            "_view_module": "@jupyter-widgets/controls",
            "_view_module_version": "1.5.0",
            "_view_name": "ProgressView",
            "bar_style": "success",
            "description": "",
            "description_tooltip": null,
            "layout": "IPY_MODEL_25bc344be60c49369ddac2cca45ffd80",
            "max": 370,
            "min": 0,
            "orientation": "horizontal",
            "style": "IPY_MODEL_ae50731db0c74922a4ed15b605e9fc1d",
            "value": 370
          }
        },
        "c0236c276adb4e62820f4efe930066d3": {
          "model_module": "@jupyter-widgets/controls",
          "model_name": "HTMLModel",
          "model_module_version": "1.5.0",
          "state": {
            "_dom_classes": [],
            "_model_module": "@jupyter-widgets/controls",
            "_model_module_version": "1.5.0",
            "_model_name": "HTMLModel",
            "_view_count": null,
            "_view_module": "@jupyter-widgets/controls",
            "_view_module_version": "1.5.0",
            "_view_name": "HTMLView",
            "description": "",
            "description_tooltip": null,
            "layout": "IPY_MODEL_1a908398fdbe4041b958014ace5d6fd3",
            "placeholder": "​",
            "style": "IPY_MODEL_a8e8932316ef42fe969ac8a453221323",
            "value": " 370/370 [00:43&lt;00:00,  8.24it/s]"
          }
        },
        "24f85d187dac4b3aa4c183de6801bcc7": {
          "model_module": "@jupyter-widgets/base",
          "model_name": "LayoutModel",
          "model_module_version": "1.2.0",
          "state": {
            "_model_module": "@jupyter-widgets/base",
            "_model_module_version": "1.2.0",
            "_model_name": "LayoutModel",
            "_view_count": null,
            "_view_module": "@jupyter-widgets/base",
            "_view_module_version": "1.2.0",
            "_view_name": "LayoutView",
            "align_content": null,
            "align_items": null,
            "align_self": null,
            "border": null,
            "bottom": null,
            "display": null,
            "flex": null,
            "flex_flow": null,
            "grid_area": null,
            "grid_auto_columns": null,
            "grid_auto_flow": null,
            "grid_auto_rows": null,
            "grid_column": null,
            "grid_gap": null,
            "grid_row": null,
            "grid_template_areas": null,
            "grid_template_columns": null,
            "grid_template_rows": null,
            "height": null,
            "justify_content": null,
            "justify_items": null,
            "left": null,
            "margin": null,
            "max_height": null,
            "max_width": null,
            "min_height": null,
            "min_width": null,
            "object_fit": null,
            "object_position": null,
            "order": null,
            "overflow": null,
            "overflow_x": null,
            "overflow_y": null,
            "padding": null,
            "right": null,
            "top": null,
            "visibility": null,
            "width": null
          }
        },
        "80509d89e8814a2393133933bb327562": {
          "model_module": "@jupyter-widgets/base",
          "model_name": "LayoutModel",
          "model_module_version": "1.2.0",
          "state": {
            "_model_module": "@jupyter-widgets/base",
            "_model_module_version": "1.2.0",
            "_model_name": "LayoutModel",
            "_view_count": null,
            "_view_module": "@jupyter-widgets/base",
            "_view_module_version": "1.2.0",
            "_view_name": "LayoutView",
            "align_content": null,
            "align_items": null,
            "align_self": null,
            "border": null,
            "bottom": null,
            "display": null,
            "flex": null,
            "flex_flow": null,
            "grid_area": null,
            "grid_auto_columns": null,
            "grid_auto_flow": null,
            "grid_auto_rows": null,
            "grid_column": null,
            "grid_gap": null,
            "grid_row": null,
            "grid_template_areas": null,
            "grid_template_columns": null,
            "grid_template_rows": null,
            "height": null,
            "justify_content": null,
            "justify_items": null,
            "left": null,
            "margin": null,
            "max_height": null,
            "max_width": null,
            "min_height": null,
            "min_width": null,
            "object_fit": null,
            "object_position": null,
            "order": null,
            "overflow": null,
            "overflow_x": null,
            "overflow_y": null,
            "padding": null,
            "right": null,
            "top": null,
            "visibility": null,
            "width": null
          }
        },
        "b5064e177d7748d0b9aa75efcc246059": {
          "model_module": "@jupyter-widgets/controls",
          "model_name": "DescriptionStyleModel",
          "model_module_version": "1.5.0",
          "state": {
            "_model_module": "@jupyter-widgets/controls",
            "_model_module_version": "1.5.0",
            "_model_name": "DescriptionStyleModel",
            "_view_count": null,
            "_view_module": "@jupyter-widgets/base",
            "_view_module_version": "1.2.0",
            "_view_name": "StyleView",
            "description_width": ""
          }
        },
        "25bc344be60c49369ddac2cca45ffd80": {
          "model_module": "@jupyter-widgets/base",
          "model_name": "LayoutModel",
          "model_module_version": "1.2.0",
          "state": {
            "_model_module": "@jupyter-widgets/base",
            "_model_module_version": "1.2.0",
            "_model_name": "LayoutModel",
            "_view_count": null,
            "_view_module": "@jupyter-widgets/base",
            "_view_module_version": "1.2.0",
            "_view_name": "LayoutView",
            "align_content": null,
            "align_items": null,
            "align_self": null,
            "border": null,
            "bottom": null,
            "display": null,
            "flex": null,
            "flex_flow": null,
            "grid_area": null,
            "grid_auto_columns": null,
            "grid_auto_flow": null,
            "grid_auto_rows": null,
            "grid_column": null,
            "grid_gap": null,
            "grid_row": null,
            "grid_template_areas": null,
            "grid_template_columns": null,
            "grid_template_rows": null,
            "height": null,
            "justify_content": null,
            "justify_items": null,
            "left": null,
            "margin": null,
            "max_height": null,
            "max_width": null,
            "min_height": null,
            "min_width": null,
            "object_fit": null,
            "object_position": null,
            "order": null,
            "overflow": null,
            "overflow_x": null,
            "overflow_y": null,
            "padding": null,
            "right": null,
            "top": null,
            "visibility": null,
            "width": null
          }
        },
        "ae50731db0c74922a4ed15b605e9fc1d": {
          "model_module": "@jupyter-widgets/controls",
          "model_name": "ProgressStyleModel",
          "model_module_version": "1.5.0",
          "state": {
            "_model_module": "@jupyter-widgets/controls",
            "_model_module_version": "1.5.0",
            "_model_name": "ProgressStyleModel",
            "_view_count": null,
            "_view_module": "@jupyter-widgets/base",
            "_view_module_version": "1.2.0",
            "_view_name": "StyleView",
            "bar_color": null,
            "description_width": ""
          }
        },
        "1a908398fdbe4041b958014ace5d6fd3": {
          "model_module": "@jupyter-widgets/base",
          "model_name": "LayoutModel",
          "model_module_version": "1.2.0",
          "state": {
            "_model_module": "@jupyter-widgets/base",
            "_model_module_version": "1.2.0",
            "_model_name": "LayoutModel",
            "_view_count": null,
            "_view_module": "@jupyter-widgets/base",
            "_view_module_version": "1.2.0",
            "_view_name": "LayoutView",
            "align_content": null,
            "align_items": null,
            "align_self": null,
            "border": null,
            "bottom": null,
            "display": null,
            "flex": null,
            "flex_flow": null,
            "grid_area": null,
            "grid_auto_columns": null,
            "grid_auto_flow": null,
            "grid_auto_rows": null,
            "grid_column": null,
            "grid_gap": null,
            "grid_row": null,
            "grid_template_areas": null,
            "grid_template_columns": null,
            "grid_template_rows": null,
            "height": null,
            "justify_content": null,
            "justify_items": null,
            "left": null,
            "margin": null,
            "max_height": null,
            "max_width": null,
            "min_height": null,
            "min_width": null,
            "object_fit": null,
            "object_position": null,
            "order": null,
            "overflow": null,
            "overflow_x": null,
            "overflow_y": null,
            "padding": null,
            "right": null,
            "top": null,
            "visibility": null,
            "width": null
          }
        },
        "a8e8932316ef42fe969ac8a453221323": {
          "model_module": "@jupyter-widgets/controls",
          "model_name": "DescriptionStyleModel",
          "model_module_version": "1.5.0",
          "state": {
            "_model_module": "@jupyter-widgets/controls",
            "_model_module_version": "1.5.0",
            "_model_name": "DescriptionStyleModel",
            "_view_count": null,
            "_view_module": "@jupyter-widgets/base",
            "_view_module_version": "1.2.0",
            "_view_name": "StyleView",
            "description_width": ""
          }
        }
      }
    },
    "accelerator": "GPU"
  },
  "cells": [
    {
      "cell_type": "markdown",
      "metadata": {
        "id": "view-in-github",
        "colab_type": "text"
      },
      "source": [
        "<a href=\"https://colab.research.google.com/github/xiaoyufan/nbme/blob/main/baseline_deberta.ipynb\" target=\"_parent\"><img src=\"https://colab.research.google.com/assets/colab-badge.svg\" alt=\"Open In Colab\"/></a>"
      ]
    },
    {
      "cell_type": "markdown",
      "source": [
        "# NBME Baseline DeBERTa"
      ],
      "metadata": {
        "id": "XoauZTv1ekis"
      }
    },
    {
      "cell_type": "markdown",
      "source": [
        "## Configurations"
      ],
      "metadata": {
        "id": "jWPOFAMmescu"
      }
    },
    {
      "cell_type": "code",
      "source": [
        "class Config:\n",
        "  batch_size = 8\n",
        "  device_name = 'gpu'\n",
        "  epochs = 1\n",
        "  input_dir = '/content/drive/MyDrive/CS7150 Deep Learning Project/Dataset/Preprocessed'\n",
        "  learning_rate = 1e-4\n",
        "  mode = 'dev' # train/dev\n",
        "  model = 'microsoft/deberta-base'\n",
        "  output_dir = '/content/drive/MyDrive/CS7150 Deep Learning Project/Output'\n",
        "  seed = 42\n",
        "  sequence_max_length = 416\n",
        "  tpu_cores = 1"
      ],
      "metadata": {
        "id": "i2tVkqRCK-bn",
        "colab": {
          "base_uri": "https://localhost:8080/"
        },
        "outputId": "c1594ed8-f1c0-491c-f1dd-82aae583f58a"
      },
      "execution_count": 66,
      "outputs": [
        {
          "output_type": "stream",
          "name": "stdout",
          "text": [
            "time: 3.79 ms (started: 2022-04-30 21:42:04 +00:00)\n"
          ]
        }
      ]
    },
    {
      "cell_type": "markdown",
      "source": [
        "## Packages"
      ],
      "metadata": {
        "id": "8PAFcMWfep6h"
      }
    },
    {
      "cell_type": "code",
      "source": [
        "!pip install ipython-autotime\n",
        "%load_ext autotime"
      ],
      "metadata": {
        "id": "pVKbksi7x9Ps",
        "outputId": "b43998dd-5ac1-405c-d6cb-b20610a03477",
        "colab": {
          "base_uri": "https://localhost:8080/"
        }
      },
      "execution_count": 67,
      "outputs": [
        {
          "output_type": "stream",
          "name": "stdout",
          "text": [
            "Requirement already satisfied: ipython-autotime in /usr/local/lib/python3.7/dist-packages (0.3.1)\n",
            "Requirement already satisfied: ipython in /usr/local/lib/python3.7/dist-packages (from ipython-autotime) (5.5.0)\n",
            "Requirement already satisfied: pexpect in /usr/local/lib/python3.7/dist-packages (from ipython->ipython-autotime) (4.8.0)\n",
            "Requirement already satisfied: decorator in /usr/local/lib/python3.7/dist-packages (from ipython->ipython-autotime) (4.4.2)\n",
            "Requirement already satisfied: pygments in /usr/local/lib/python3.7/dist-packages (from ipython->ipython-autotime) (2.6.1)\n",
            "Requirement already satisfied: prompt-toolkit<2.0.0,>=1.0.4 in /usr/local/lib/python3.7/dist-packages (from ipython->ipython-autotime) (1.0.18)\n",
            "Requirement already satisfied: pickleshare in /usr/local/lib/python3.7/dist-packages (from ipython->ipython-autotime) (0.7.5)\n",
            "Requirement already satisfied: simplegeneric>0.8 in /usr/local/lib/python3.7/dist-packages (from ipython->ipython-autotime) (0.8.1)\n",
            "Requirement already satisfied: traitlets>=4.2 in /usr/local/lib/python3.7/dist-packages (from ipython->ipython-autotime) (5.1.1)\n",
            "Requirement already satisfied: setuptools>=18.5 in /usr/local/lib/python3.7/dist-packages (from ipython->ipython-autotime) (57.4.0)\n",
            "Requirement already satisfied: wcwidth in /usr/local/lib/python3.7/dist-packages (from prompt-toolkit<2.0.0,>=1.0.4->ipython->ipython-autotime) (0.2.5)\n",
            "Requirement already satisfied: six>=1.9.0 in /usr/local/lib/python3.7/dist-packages (from prompt-toolkit<2.0.0,>=1.0.4->ipython->ipython-autotime) (1.15.0)\n",
            "Requirement already satisfied: ptyprocess>=0.5 in /usr/local/lib/python3.7/dist-packages (from pexpect->ipython->ipython-autotime) (0.7.0)\n",
            "The autotime extension is already loaded. To reload it, use:\n",
            "  %reload_ext autotime\n",
            "time: 3.03 s (started: 2022-04-30 21:42:04 +00:00)\n"
          ]
        }
      ]
    },
    {
      "cell_type": "code",
      "execution_count": 68,
      "metadata": {
        "id": "fevyPYAS06FJ",
        "outputId": "bdf76d1c-6106-4f01-aa83-41ec24ae1f65",
        "colab": {
          "base_uri": "https://localhost:8080/"
        }
      },
      "outputs": [
        {
          "output_type": "stream",
          "name": "stdout",
          "text": [
            "Requirement already satisfied: transformers in /usr/local/lib/python3.7/dist-packages (4.18.0)\n",
            "Requirement already satisfied: pyyaml>=5.1 in /usr/local/lib/python3.7/dist-packages (from transformers) (6.0)\n",
            "Requirement already satisfied: filelock in /usr/local/lib/python3.7/dist-packages (from transformers) (3.6.0)\n",
            "Requirement already satisfied: tokenizers!=0.11.3,<0.13,>=0.11.1 in /usr/local/lib/python3.7/dist-packages (from transformers) (0.12.1)\n",
            "Requirement already satisfied: regex!=2019.12.17 in /usr/local/lib/python3.7/dist-packages (from transformers) (2019.12.20)\n",
            "Requirement already satisfied: requests in /usr/local/lib/python3.7/dist-packages (from transformers) (2.23.0)\n",
            "Requirement already satisfied: numpy>=1.17 in /usr/local/lib/python3.7/dist-packages (from transformers) (1.21.6)\n",
            "Requirement already satisfied: huggingface-hub<1.0,>=0.1.0 in /usr/local/lib/python3.7/dist-packages (from transformers) (0.5.1)\n",
            "Requirement already satisfied: tqdm>=4.27 in /usr/local/lib/python3.7/dist-packages (from transformers) (4.64.0)\n",
            "Requirement already satisfied: packaging>=20.0 in /usr/local/lib/python3.7/dist-packages (from transformers) (21.3)\n",
            "Requirement already satisfied: sacremoses in /usr/local/lib/python3.7/dist-packages (from transformers) (0.0.49)\n",
            "Requirement already satisfied: importlib-metadata in /usr/local/lib/python3.7/dist-packages (from transformers) (4.11.3)\n",
            "Requirement already satisfied: typing-extensions>=3.7.4.3 in /usr/local/lib/python3.7/dist-packages (from huggingface-hub<1.0,>=0.1.0->transformers) (4.2.0)\n",
            "Requirement already satisfied: pyparsing!=3.0.5,>=2.0.2 in /usr/local/lib/python3.7/dist-packages (from packaging>=20.0->transformers) (3.0.8)\n",
            "Requirement already satisfied: zipp>=0.5 in /usr/local/lib/python3.7/dist-packages (from importlib-metadata->transformers) (3.8.0)\n",
            "Requirement already satisfied: urllib3!=1.25.0,!=1.25.1,<1.26,>=1.21.1 in /usr/local/lib/python3.7/dist-packages (from requests->transformers) (1.24.3)\n",
            "Requirement already satisfied: chardet<4,>=3.0.2 in /usr/local/lib/python3.7/dist-packages (from requests->transformers) (3.0.4)\n",
            "Requirement already satisfied: idna<3,>=2.5 in /usr/local/lib/python3.7/dist-packages (from requests->transformers) (2.10)\n",
            "Requirement already satisfied: certifi>=2017.4.17 in /usr/local/lib/python3.7/dist-packages (from requests->transformers) (2021.10.8)\n",
            "Requirement already satisfied: joblib in /usr/local/lib/python3.7/dist-packages (from sacremoses->transformers) (1.1.0)\n",
            "Requirement already satisfied: six in /usr/local/lib/python3.7/dist-packages (from sacremoses->transformers) (1.15.0)\n",
            "Requirement already satisfied: click in /usr/local/lib/python3.7/dist-packages (from sacremoses->transformers) (7.1.2)\n",
            "Requirement already satisfied: tokenizers in /usr/local/lib/python3.7/dist-packages (0.12.1)\n",
            "Collecting git+https://github.com/xiaoyufan/nbme.git@3e8153a7bdd4dd8a1d0a29d60bf319bbc1865591\n",
            "  Cloning https://github.com/xiaoyufan/nbme.git (to revision 3e8153a7bdd4dd8a1d0a29d60bf319bbc1865591) to /tmp/pip-req-build-kyj54c0r\n",
            "  Running command git clone -q https://github.com/xiaoyufan/nbme.git /tmp/pip-req-build-kyj54c0r\n",
            "  Running command git rev-parse -q --verify 'sha^3e8153a7bdd4dd8a1d0a29d60bf319bbc1865591'\n",
            "  Running command git fetch -q https://github.com/xiaoyufan/nbme.git 3e8153a7bdd4dd8a1d0a29d60bf319bbc1865591\n",
            "time: 10.5 s (started: 2022-04-30 21:42:07 +00:00)\n"
          ]
        }
      ],
      "source": [
        "!pip install transformers\n",
        "!pip install tokenizers\n",
        "\n",
        "!pip install --upgrade git+https://github.com/xiaoyufan/nbme.git@3e8153a7bdd4dd8a1d0a29d60bf319bbc1865591"
      ]
    },
    {
      "cell_type": "code",
      "source": [
        "import numpy as np\n",
        "import os\n",
        "import pandas as pd\n",
        "import spacy\n",
        "import torch\n",
        "import torch.nn as nn\n",
        "\n",
        "from ast import literal_eval\n",
        "from nbme_utils.location import locations_to_spans, spans_to_locations, generate_labels\n",
        "from nbme_utils.prediction import logits_to_spans\n",
        "from nbme_utils.scoring import span_micro_f1\n",
        "from transformers import AutoConfig, AutoModel, AutoTokenizer, PreTrainedTokenizer\n",
        "from torch.utils.data import DataLoader, Dataset\n",
        "from tqdm.notebook import tqdm"
      ],
      "metadata": {
        "id": "8yvdXJKZFje_",
        "outputId": "91b315d6-25a0-4588-ea18-1fc91640735f",
        "colab": {
          "base_uri": "https://localhost:8080/"
        }
      },
      "execution_count": 69,
      "outputs": [
        {
          "output_type": "stream",
          "name": "stdout",
          "text": [
            "time: 3.84 ms (started: 2022-04-30 21:42:18 +00:00)\n"
          ]
        }
      ]
    },
    {
      "cell_type": "markdown",
      "source": [
        "## TPU"
      ],
      "metadata": {
        "id": "HM32y2S4kQs0"
      }
    },
    {
      "cell_type": "code",
      "source": [
        "if Config.device_name == 'tpu':\n",
        "  assert os.environ['COLAB_TPU_ADDR'], 'Make sure to select TPU from Edit > Notebook settings > Hardware accelerator'"
      ],
      "metadata": {
        "id": "wcVIbMFxkZJD",
        "outputId": "8443a29f-05e3-4434-f947-7172e035bb47",
        "colab": {
          "base_uri": "https://localhost:8080/"
        }
      },
      "execution_count": 70,
      "outputs": [
        {
          "output_type": "stream",
          "name": "stdout",
          "text": [
            "time: 1.12 ms (started: 2022-04-30 21:42:18 +00:00)\n"
          ]
        }
      ]
    },
    {
      "cell_type": "code",
      "source": [
        "!pip install cloud-tpu-client==0.10 torch==1.11.0 https://storage.googleapis.com/tpu-pytorch/wheels/colab/torch_xla-1.11-cp37-cp37m-linux_x86_64.whl"
      ],
      "metadata": {
        "id": "o4YNyQcrkUQC",
        "outputId": "10c67afe-e724-4392-d2d3-b261efe11917",
        "colab": {
          "base_uri": "https://localhost:8080/"
        }
      },
      "execution_count": 71,
      "outputs": [
        {
          "output_type": "stream",
          "name": "stdout",
          "text": [
            "Collecting torch-xla==1.11\n",
            "  Using cached https://storage.googleapis.com/tpu-pytorch/wheels/colab/torch_xla-1.11-cp37-cp37m-linux_x86_64.whl (152.9 MB)\n",
            "Requirement already satisfied: cloud-tpu-client==0.10 in /usr/local/lib/python3.7/dist-packages (0.10)\n",
            "Requirement already satisfied: torch==1.11.0 in /usr/local/lib/python3.7/dist-packages (1.11.0+cu113)\n",
            "Requirement already satisfied: google-api-python-client==1.8.0 in /usr/local/lib/python3.7/dist-packages (from cloud-tpu-client==0.10) (1.8.0)\n",
            "Requirement already satisfied: oauth2client in /usr/local/lib/python3.7/dist-packages (from cloud-tpu-client==0.10) (4.1.3)\n",
            "Requirement already satisfied: typing-extensions in /usr/local/lib/python3.7/dist-packages (from torch==1.11.0) (4.2.0)\n",
            "Requirement already satisfied: six<2dev,>=1.6.1 in /usr/local/lib/python3.7/dist-packages (from google-api-python-client==1.8.0->cloud-tpu-client==0.10) (1.15.0)\n",
            "Requirement already satisfied: google-auth-httplib2>=0.0.3 in /usr/local/lib/python3.7/dist-packages (from google-api-python-client==1.8.0->cloud-tpu-client==0.10) (0.0.4)\n",
            "Requirement already satisfied: httplib2<1dev,>=0.9.2 in /usr/local/lib/python3.7/dist-packages (from google-api-python-client==1.8.0->cloud-tpu-client==0.10) (0.17.4)\n",
            "Requirement already satisfied: google-api-core<2dev,>=1.13.0 in /usr/local/lib/python3.7/dist-packages (from google-api-python-client==1.8.0->cloud-tpu-client==0.10) (1.31.5)\n",
            "Requirement already satisfied: uritemplate<4dev,>=3.0.0 in /usr/local/lib/python3.7/dist-packages (from google-api-python-client==1.8.0->cloud-tpu-client==0.10) (3.0.1)\n",
            "Requirement already satisfied: google-auth>=1.4.1 in /usr/local/lib/python3.7/dist-packages (from google-api-python-client==1.8.0->cloud-tpu-client==0.10) (1.35.0)\n",
            "Requirement already satisfied: pytz in /usr/local/lib/python3.7/dist-packages (from google-api-core<2dev,>=1.13.0->google-api-python-client==1.8.0->cloud-tpu-client==0.10) (2022.1)\n",
            "Requirement already satisfied: googleapis-common-protos<2.0dev,>=1.6.0 in /usr/local/lib/python3.7/dist-packages (from google-api-core<2dev,>=1.13.0->google-api-python-client==1.8.0->cloud-tpu-client==0.10) (1.56.0)\n",
            "Requirement already satisfied: packaging>=14.3 in /usr/local/lib/python3.7/dist-packages (from google-api-core<2dev,>=1.13.0->google-api-python-client==1.8.0->cloud-tpu-client==0.10) (21.3)\n",
            "Requirement already satisfied: setuptools>=40.3.0 in /usr/local/lib/python3.7/dist-packages (from google-api-core<2dev,>=1.13.0->google-api-python-client==1.8.0->cloud-tpu-client==0.10) (57.4.0)\n",
            "Requirement already satisfied: requests<3.0.0dev,>=2.18.0 in /usr/local/lib/python3.7/dist-packages (from google-api-core<2dev,>=1.13.0->google-api-python-client==1.8.0->cloud-tpu-client==0.10) (2.23.0)\n",
            "Requirement already satisfied: protobuf>=3.12.0 in /usr/local/lib/python3.7/dist-packages (from google-api-core<2dev,>=1.13.0->google-api-python-client==1.8.0->cloud-tpu-client==0.10) (3.17.3)\n",
            "Requirement already satisfied: rsa<5,>=3.1.4 in /usr/local/lib/python3.7/dist-packages (from google-auth>=1.4.1->google-api-python-client==1.8.0->cloud-tpu-client==0.10) (4.8)\n",
            "Requirement already satisfied: pyasn1-modules>=0.2.1 in /usr/local/lib/python3.7/dist-packages (from google-auth>=1.4.1->google-api-python-client==1.8.0->cloud-tpu-client==0.10) (0.2.8)\n",
            "Requirement already satisfied: cachetools<5.0,>=2.0.0 in /usr/local/lib/python3.7/dist-packages (from google-auth>=1.4.1->google-api-python-client==1.8.0->cloud-tpu-client==0.10) (4.2.4)\n",
            "Requirement already satisfied: pyparsing!=3.0.5,>=2.0.2 in /usr/local/lib/python3.7/dist-packages (from packaging>=14.3->google-api-core<2dev,>=1.13.0->google-api-python-client==1.8.0->cloud-tpu-client==0.10) (3.0.8)\n",
            "Requirement already satisfied: pyasn1<0.5.0,>=0.4.6 in /usr/local/lib/python3.7/dist-packages (from pyasn1-modules>=0.2.1->google-auth>=1.4.1->google-api-python-client==1.8.0->cloud-tpu-client==0.10) (0.4.8)\n",
            "Requirement already satisfied: idna<3,>=2.5 in /usr/local/lib/python3.7/dist-packages (from requests<3.0.0dev,>=2.18.0->google-api-core<2dev,>=1.13.0->google-api-python-client==1.8.0->cloud-tpu-client==0.10) (2.10)\n",
            "Requirement already satisfied: certifi>=2017.4.17 in /usr/local/lib/python3.7/dist-packages (from requests<3.0.0dev,>=2.18.0->google-api-core<2dev,>=1.13.0->google-api-python-client==1.8.0->cloud-tpu-client==0.10) (2021.10.8)\n",
            "Requirement already satisfied: urllib3!=1.25.0,!=1.25.1,<1.26,>=1.21.1 in /usr/local/lib/python3.7/dist-packages (from requests<3.0.0dev,>=2.18.0->google-api-core<2dev,>=1.13.0->google-api-python-client==1.8.0->cloud-tpu-client==0.10) (1.24.3)\n",
            "Requirement already satisfied: chardet<4,>=3.0.2 in /usr/local/lib/python3.7/dist-packages (from requests<3.0.0dev,>=2.18.0->google-api-core<2dev,>=1.13.0->google-api-python-client==1.8.0->cloud-tpu-client==0.10) (3.0.4)\n",
            "time: 4.03 s (started: 2022-04-30 21:42:18 +00:00)\n"
          ]
        }
      ]
    },
    {
      "cell_type": "code",
      "source": [
        "if Config.device_name == 'tpu':\n",
        "  import torch_xla.core.xla_model as xm\n",
        "  import torch_xla.distributed.parallel_loader as pl\n",
        "  import torch_xla.distributed.xla_multiprocessing as xmp\n",
        "  \n",
        "  from torch.utils.data.distributed import DistributedSampler"
      ],
      "metadata": {
        "id": "Zy8T_2LmsIj9",
        "outputId": "aee6fc2f-3fed-447f-8adf-fc798a7f331c",
        "colab": {
          "base_uri": "https://localhost:8080/"
        }
      },
      "execution_count": 72,
      "outputs": [
        {
          "output_type": "stream",
          "name": "stdout",
          "text": [
            "time: 2.2 ms (started: 2022-04-30 21:42:22 +00:00)\n"
          ]
        }
      ]
    },
    {
      "cell_type": "markdown",
      "source": [
        "## Tokenizer"
      ],
      "metadata": {
        "id": "PWSc9tvyig71"
      }
    },
    {
      "cell_type": "code",
      "source": [
        "tokenizer = AutoTokenizer.from_pretrained(Config.model)\n",
        "tokenizer.save_pretrained(f'{Config.output_dir}/tokenizer')"
      ],
      "metadata": {
        "id": "1Pwdt6Qaij_E",
        "outputId": "955b73a7-691a-4f7a-b697-ae4410c0e0f9",
        "colab": {
          "base_uri": "https://localhost:8080/"
        }
      },
      "execution_count": 73,
      "outputs": [
        {
          "output_type": "execute_result",
          "data": {
            "text/plain": [
              "('/content/drive/MyDrive/CS7150 Deep Learning Project/Output/tokenizer/tokenizer_config.json',\n",
              " '/content/drive/MyDrive/CS7150 Deep Learning Project/Output/tokenizer/special_tokens_map.json',\n",
              " '/content/drive/MyDrive/CS7150 Deep Learning Project/Output/tokenizer/vocab.json',\n",
              " '/content/drive/MyDrive/CS7150 Deep Learning Project/Output/tokenizer/merges.txt',\n",
              " '/content/drive/MyDrive/CS7150 Deep Learning Project/Output/tokenizer/added_tokens.json',\n",
              " '/content/drive/MyDrive/CS7150 Deep Learning Project/Output/tokenizer/tokenizer.json')"
            ]
          },
          "metadata": {},
          "execution_count": 73
        },
        {
          "output_type": "stream",
          "name": "stdout",
          "text": [
            "time: 4.37 s (started: 2022-04-30 21:42:22 +00:00)\n"
          ]
        }
      ]
    },
    {
      "cell_type": "markdown",
      "source": [
        "## Data Loading"
      ],
      "metadata": {
        "id": "CJU893wUh3mT"
      }
    },
    {
      "cell_type": "code",
      "source": [
        "train = pd.read_csv(f'{Config.input_dir}/train.csv')\n",
        "valid = pd.read_csv(f'{Config.input_dir}/validate.csv')\n",
        "test = pd.read_csv(f'{Config.input_dir}/test.csv')\n",
        "\n",
        "train.shape, valid.shape, test.shape"
      ],
      "metadata": {
        "id": "dD7OvlwAh4wO",
        "outputId": "1e49fc24-ab88-4f73-81c2-974052ec4615",
        "colab": {
          "base_uri": "https://localhost:8080/"
        }
      },
      "execution_count": 74,
      "outputs": [
        {
          "output_type": "execute_result",
          "data": {
            "text/plain": [
              "((11342, 8), (2958, 8), (5, 6))"
            ]
          },
          "metadata": {},
          "execution_count": 74
        },
        {
          "output_type": "stream",
          "name": "stdout",
          "text": [
            "time: 157 ms (started: 2022-04-30 21:42:26 +00:00)\n"
          ]
        }
      ]
    },
    {
      "cell_type": "code",
      "source": [
        "if Config.mode == 'dev':\n",
        "  train = train.sample(n=80, random_state=Config.seed).reset_index(drop=True)\n",
        "  valid = valid.sample(n=20, random_state=Config.seed).reset_index(drop=True)\n",
        "  \n",
        "train.shape, valid.shape, test.shape"
      ],
      "metadata": {
        "id": "xdAsvHtDiNw3",
        "outputId": "ca27bfc0-00b9-4cc4-c5cc-e4f2f0ec752c",
        "colab": {
          "base_uri": "https://localhost:8080/"
        }
      },
      "execution_count": 75,
      "outputs": [
        {
          "output_type": "execute_result",
          "data": {
            "text/plain": [
              "((11342, 8), (2958, 8), (5, 6))"
            ]
          },
          "metadata": {},
          "execution_count": 75
        },
        {
          "output_type": "stream",
          "name": "stdout",
          "text": [
            "time: 5.79 ms (started: 2022-04-30 21:42:26 +00:00)\n"
          ]
        }
      ]
    },
    {
      "cell_type": "code",
      "source": [
        "train.head()"
      ],
      "metadata": {
        "id": "kHFyvx81nxVA",
        "outputId": "20447c5d-a92f-4dc2-d6f3-db9a4091a535",
        "colab": {
          "base_uri": "https://localhost:8080/",
          "height": 354
        }
      },
      "execution_count": 76,
      "outputs": [
        {
          "output_type": "execute_result",
          "data": {
            "text/plain": [
              "          id  case_num  pn_num  feature_num  \\\n",
              "0  00016_000         0      16            0   \n",
              "1  00016_001         0      16            1   \n",
              "2  00016_002         0      16            2   \n",
              "3  00016_003         0      16            3   \n",
              "4  00016_004         0      16            4   \n",
              "\n",
              "                                 annotation              location  \\\n",
              "0          ['dad with recent heart attcak']           ['696 724']   \n",
              "1             ['mom with \"thyroid disease']           ['668 693']   \n",
              "2                        ['chest pressure']           ['203 217']   \n",
              "3      ['intermittent episodes', 'episode']  ['70 91', '176 183']   \n",
              "4  ['felt as if he were going to pass out']           ['222 258']   \n",
              "\n",
              "                                          pn_history  \\\n",
              "0  HPI: 17yo M presents with palpitations. Patien...   \n",
              "1  HPI: 17yo M presents with palpitations. Patien...   \n",
              "2  HPI: 17yo M presents with palpitations. Patien...   \n",
              "3  HPI: 17yo M presents with palpitations. Patien...   \n",
              "4  HPI: 17yo M presents with palpitations. Patien...   \n",
              "\n",
              "                                        feature_text  \n",
              "0  Family-history-of-MI-OR-Family-history-of-myoc...  \n",
              "1                 Family-history-of-thyroid-disorder  \n",
              "2                                     Chest-pressure  \n",
              "3                              Intermittent-symptoms  \n",
              "4                                        Lightheaded  "
            ],
            "text/html": [
              "\n",
              "  <div id=\"df-315e2476-19f8-4902-9e71-e7d9f1f43669\">\n",
              "    <div class=\"colab-df-container\">\n",
              "      <div>\n",
              "<style scoped>\n",
              "    .dataframe tbody tr th:only-of-type {\n",
              "        vertical-align: middle;\n",
              "    }\n",
              "\n",
              "    .dataframe tbody tr th {\n",
              "        vertical-align: top;\n",
              "    }\n",
              "\n",
              "    .dataframe thead th {\n",
              "        text-align: right;\n",
              "    }\n",
              "</style>\n",
              "<table border=\"1\" class=\"dataframe\">\n",
              "  <thead>\n",
              "    <tr style=\"text-align: right;\">\n",
              "      <th></th>\n",
              "      <th>id</th>\n",
              "      <th>case_num</th>\n",
              "      <th>pn_num</th>\n",
              "      <th>feature_num</th>\n",
              "      <th>annotation</th>\n",
              "      <th>location</th>\n",
              "      <th>pn_history</th>\n",
              "      <th>feature_text</th>\n",
              "    </tr>\n",
              "  </thead>\n",
              "  <tbody>\n",
              "    <tr>\n",
              "      <th>0</th>\n",
              "      <td>00016_000</td>\n",
              "      <td>0</td>\n",
              "      <td>16</td>\n",
              "      <td>0</td>\n",
              "      <td>['dad with recent heart attcak']</td>\n",
              "      <td>['696 724']</td>\n",
              "      <td>HPI: 17yo M presents with palpitations. Patien...</td>\n",
              "      <td>Family-history-of-MI-OR-Family-history-of-myoc...</td>\n",
              "    </tr>\n",
              "    <tr>\n",
              "      <th>1</th>\n",
              "      <td>00016_001</td>\n",
              "      <td>0</td>\n",
              "      <td>16</td>\n",
              "      <td>1</td>\n",
              "      <td>['mom with \"thyroid disease']</td>\n",
              "      <td>['668 693']</td>\n",
              "      <td>HPI: 17yo M presents with palpitations. Patien...</td>\n",
              "      <td>Family-history-of-thyroid-disorder</td>\n",
              "    </tr>\n",
              "    <tr>\n",
              "      <th>2</th>\n",
              "      <td>00016_002</td>\n",
              "      <td>0</td>\n",
              "      <td>16</td>\n",
              "      <td>2</td>\n",
              "      <td>['chest pressure']</td>\n",
              "      <td>['203 217']</td>\n",
              "      <td>HPI: 17yo M presents with palpitations. Patien...</td>\n",
              "      <td>Chest-pressure</td>\n",
              "    </tr>\n",
              "    <tr>\n",
              "      <th>3</th>\n",
              "      <td>00016_003</td>\n",
              "      <td>0</td>\n",
              "      <td>16</td>\n",
              "      <td>3</td>\n",
              "      <td>['intermittent episodes', 'episode']</td>\n",
              "      <td>['70 91', '176 183']</td>\n",
              "      <td>HPI: 17yo M presents with palpitations. Patien...</td>\n",
              "      <td>Intermittent-symptoms</td>\n",
              "    </tr>\n",
              "    <tr>\n",
              "      <th>4</th>\n",
              "      <td>00016_004</td>\n",
              "      <td>0</td>\n",
              "      <td>16</td>\n",
              "      <td>4</td>\n",
              "      <td>['felt as if he were going to pass out']</td>\n",
              "      <td>['222 258']</td>\n",
              "      <td>HPI: 17yo M presents with palpitations. Patien...</td>\n",
              "      <td>Lightheaded</td>\n",
              "    </tr>\n",
              "  </tbody>\n",
              "</table>\n",
              "</div>\n",
              "      <button class=\"colab-df-convert\" onclick=\"convertToInteractive('df-315e2476-19f8-4902-9e71-e7d9f1f43669')\"\n",
              "              title=\"Convert this dataframe to an interactive table.\"\n",
              "              style=\"display:none;\">\n",
              "        \n",
              "  <svg xmlns=\"http://www.w3.org/2000/svg\" height=\"24px\"viewBox=\"0 0 24 24\"\n",
              "       width=\"24px\">\n",
              "    <path d=\"M0 0h24v24H0V0z\" fill=\"none\"/>\n",
              "    <path d=\"M18.56 5.44l.94 2.06.94-2.06 2.06-.94-2.06-.94-.94-2.06-.94 2.06-2.06.94zm-11 1L8.5 8.5l.94-2.06 2.06-.94-2.06-.94L8.5 2.5l-.94 2.06-2.06.94zm10 10l.94 2.06.94-2.06 2.06-.94-2.06-.94-.94-2.06-.94 2.06-2.06.94z\"/><path d=\"M17.41 7.96l-1.37-1.37c-.4-.4-.92-.59-1.43-.59-.52 0-1.04.2-1.43.59L10.3 9.45l-7.72 7.72c-.78.78-.78 2.05 0 2.83L4 21.41c.39.39.9.59 1.41.59.51 0 1.02-.2 1.41-.59l7.78-7.78 2.81-2.81c.8-.78.8-2.07 0-2.86zM5.41 20L4 18.59l7.72-7.72 1.47 1.35L5.41 20z\"/>\n",
              "  </svg>\n",
              "      </button>\n",
              "      \n",
              "  <style>\n",
              "    .colab-df-container {\n",
              "      display:flex;\n",
              "      flex-wrap:wrap;\n",
              "      gap: 12px;\n",
              "    }\n",
              "\n",
              "    .colab-df-convert {\n",
              "      background-color: #E8F0FE;\n",
              "      border: none;\n",
              "      border-radius: 50%;\n",
              "      cursor: pointer;\n",
              "      display: none;\n",
              "      fill: #1967D2;\n",
              "      height: 32px;\n",
              "      padding: 0 0 0 0;\n",
              "      width: 32px;\n",
              "    }\n",
              "\n",
              "    .colab-df-convert:hover {\n",
              "      background-color: #E2EBFA;\n",
              "      box-shadow: 0px 1px 2px rgba(60, 64, 67, 0.3), 0px 1px 3px 1px rgba(60, 64, 67, 0.15);\n",
              "      fill: #174EA6;\n",
              "    }\n",
              "\n",
              "    [theme=dark] .colab-df-convert {\n",
              "      background-color: #3B4455;\n",
              "      fill: #D2E3FC;\n",
              "    }\n",
              "\n",
              "    [theme=dark] .colab-df-convert:hover {\n",
              "      background-color: #434B5C;\n",
              "      box-shadow: 0px 1px 3px 1px rgba(0, 0, 0, 0.15);\n",
              "      filter: drop-shadow(0px 1px 2px rgba(0, 0, 0, 0.3));\n",
              "      fill: #FFFFFF;\n",
              "    }\n",
              "  </style>\n",
              "\n",
              "      <script>\n",
              "        const buttonEl =\n",
              "          document.querySelector('#df-315e2476-19f8-4902-9e71-e7d9f1f43669 button.colab-df-convert');\n",
              "        buttonEl.style.display =\n",
              "          google.colab.kernel.accessAllowed ? 'block' : 'none';\n",
              "\n",
              "        async function convertToInteractive(key) {\n",
              "          const element = document.querySelector('#df-315e2476-19f8-4902-9e71-e7d9f1f43669');\n",
              "          const dataTable =\n",
              "            await google.colab.kernel.invokeFunction('convertToInteractive',\n",
              "                                                     [key], {});\n",
              "          if (!dataTable) return;\n",
              "\n",
              "          const docLinkHtml = 'Like what you see? Visit the ' +\n",
              "            '<a target=\"_blank\" href=https://colab.research.google.com/notebooks/data_table.ipynb>data table notebook</a>'\n",
              "            + ' to learn more about interactive tables.';\n",
              "          element.innerHTML = '';\n",
              "          dataTable['output_type'] = 'display_data';\n",
              "          await google.colab.output.renderOutput(dataTable, element);\n",
              "          const docLink = document.createElement('div');\n",
              "          docLink.innerHTML = docLinkHtml;\n",
              "          element.appendChild(docLink);\n",
              "        }\n",
              "      </script>\n",
              "    </div>\n",
              "  </div>\n",
              "  "
            ]
          },
          "metadata": {},
          "execution_count": 76
        },
        {
          "output_type": "stream",
          "name": "stdout",
          "text": [
            "time: 9.4 ms (started: 2022-04-30 21:42:26 +00:00)\n"
          ]
        }
      ]
    },
    {
      "cell_type": "code",
      "source": [
        "valid.head()"
      ],
      "metadata": {
        "id": "eJDVEuoR5wf7",
        "outputId": "d87365c3-d6d3-4f33-c521-2dd679df0de5",
        "colab": {
          "base_uri": "https://localhost:8080/",
          "height": 354
        }
      },
      "execution_count": 77,
      "outputs": [
        {
          "output_type": "execute_result",
          "data": {
            "text/plain": [
              "          id  case_num  pn_num  feature_num                    annotation  \\\n",
              "0  00234_000         0     234            0      ['Father heart problem']   \n",
              "1  00234_001         0     234            1     ['Mother thyroid issues']   \n",
              "2  00234_002         0     234            2                            []   \n",
              "3  00234_003         0     234            3   ['5-6 episodes', 'episode']   \n",
              "4  00234_004         0     234            4  ['thought he would passout']   \n",
              "\n",
              "               location                                         pn_history  \\\n",
              "0   ['452 458;463 476']  17 yo M complains of heart pounding since 2-3 ...   \n",
              "1   ['425 431;436 450']  17 yo M complains of heart pounding since 2-3 ...   \n",
              "2                    []  17 yo M complains of heart pounding since 2-3 ...   \n",
              "3  ['61 73', '219 226']  17 yo M complains of heart pounding since 2-3 ...   \n",
              "4           ['246 270']  17 yo M complains of heart pounding since 2-3 ...   \n",
              "\n",
              "                                        feature_text  \n",
              "0  Family-history-of-MI-OR-Family-history-of-myoc...  \n",
              "1                 Family-history-of-thyroid-disorder  \n",
              "2                                     Chest-pressure  \n",
              "3                              Intermittent-symptoms  \n",
              "4                                        Lightheaded  "
            ],
            "text/html": [
              "\n",
              "  <div id=\"df-6db8ab1e-bdf9-4f34-864e-6454a44afcf1\">\n",
              "    <div class=\"colab-df-container\">\n",
              "      <div>\n",
              "<style scoped>\n",
              "    .dataframe tbody tr th:only-of-type {\n",
              "        vertical-align: middle;\n",
              "    }\n",
              "\n",
              "    .dataframe tbody tr th {\n",
              "        vertical-align: top;\n",
              "    }\n",
              "\n",
              "    .dataframe thead th {\n",
              "        text-align: right;\n",
              "    }\n",
              "</style>\n",
              "<table border=\"1\" class=\"dataframe\">\n",
              "  <thead>\n",
              "    <tr style=\"text-align: right;\">\n",
              "      <th></th>\n",
              "      <th>id</th>\n",
              "      <th>case_num</th>\n",
              "      <th>pn_num</th>\n",
              "      <th>feature_num</th>\n",
              "      <th>annotation</th>\n",
              "      <th>location</th>\n",
              "      <th>pn_history</th>\n",
              "      <th>feature_text</th>\n",
              "    </tr>\n",
              "  </thead>\n",
              "  <tbody>\n",
              "    <tr>\n",
              "      <th>0</th>\n",
              "      <td>00234_000</td>\n",
              "      <td>0</td>\n",
              "      <td>234</td>\n",
              "      <td>0</td>\n",
              "      <td>['Father heart problem']</td>\n",
              "      <td>['452 458;463 476']</td>\n",
              "      <td>17 yo M complains of heart pounding since 2-3 ...</td>\n",
              "      <td>Family-history-of-MI-OR-Family-history-of-myoc...</td>\n",
              "    </tr>\n",
              "    <tr>\n",
              "      <th>1</th>\n",
              "      <td>00234_001</td>\n",
              "      <td>0</td>\n",
              "      <td>234</td>\n",
              "      <td>1</td>\n",
              "      <td>['Mother thyroid issues']</td>\n",
              "      <td>['425 431;436 450']</td>\n",
              "      <td>17 yo M complains of heart pounding since 2-3 ...</td>\n",
              "      <td>Family-history-of-thyroid-disorder</td>\n",
              "    </tr>\n",
              "    <tr>\n",
              "      <th>2</th>\n",
              "      <td>00234_002</td>\n",
              "      <td>0</td>\n",
              "      <td>234</td>\n",
              "      <td>2</td>\n",
              "      <td>[]</td>\n",
              "      <td>[]</td>\n",
              "      <td>17 yo M complains of heart pounding since 2-3 ...</td>\n",
              "      <td>Chest-pressure</td>\n",
              "    </tr>\n",
              "    <tr>\n",
              "      <th>3</th>\n",
              "      <td>00234_003</td>\n",
              "      <td>0</td>\n",
              "      <td>234</td>\n",
              "      <td>3</td>\n",
              "      <td>['5-6 episodes', 'episode']</td>\n",
              "      <td>['61 73', '219 226']</td>\n",
              "      <td>17 yo M complains of heart pounding since 2-3 ...</td>\n",
              "      <td>Intermittent-symptoms</td>\n",
              "    </tr>\n",
              "    <tr>\n",
              "      <th>4</th>\n",
              "      <td>00234_004</td>\n",
              "      <td>0</td>\n",
              "      <td>234</td>\n",
              "      <td>4</td>\n",
              "      <td>['thought he would passout']</td>\n",
              "      <td>['246 270']</td>\n",
              "      <td>17 yo M complains of heart pounding since 2-3 ...</td>\n",
              "      <td>Lightheaded</td>\n",
              "    </tr>\n",
              "  </tbody>\n",
              "</table>\n",
              "</div>\n",
              "      <button class=\"colab-df-convert\" onclick=\"convertToInteractive('df-6db8ab1e-bdf9-4f34-864e-6454a44afcf1')\"\n",
              "              title=\"Convert this dataframe to an interactive table.\"\n",
              "              style=\"display:none;\">\n",
              "        \n",
              "  <svg xmlns=\"http://www.w3.org/2000/svg\" height=\"24px\"viewBox=\"0 0 24 24\"\n",
              "       width=\"24px\">\n",
              "    <path d=\"M0 0h24v24H0V0z\" fill=\"none\"/>\n",
              "    <path d=\"M18.56 5.44l.94 2.06.94-2.06 2.06-.94-2.06-.94-.94-2.06-.94 2.06-2.06.94zm-11 1L8.5 8.5l.94-2.06 2.06-.94-2.06-.94L8.5 2.5l-.94 2.06-2.06.94zm10 10l.94 2.06.94-2.06 2.06-.94-2.06-.94-.94-2.06-.94 2.06-2.06.94z\"/><path d=\"M17.41 7.96l-1.37-1.37c-.4-.4-.92-.59-1.43-.59-.52 0-1.04.2-1.43.59L10.3 9.45l-7.72 7.72c-.78.78-.78 2.05 0 2.83L4 21.41c.39.39.9.59 1.41.59.51 0 1.02-.2 1.41-.59l7.78-7.78 2.81-2.81c.8-.78.8-2.07 0-2.86zM5.41 20L4 18.59l7.72-7.72 1.47 1.35L5.41 20z\"/>\n",
              "  </svg>\n",
              "      </button>\n",
              "      \n",
              "  <style>\n",
              "    .colab-df-container {\n",
              "      display:flex;\n",
              "      flex-wrap:wrap;\n",
              "      gap: 12px;\n",
              "    }\n",
              "\n",
              "    .colab-df-convert {\n",
              "      background-color: #E8F0FE;\n",
              "      border: none;\n",
              "      border-radius: 50%;\n",
              "      cursor: pointer;\n",
              "      display: none;\n",
              "      fill: #1967D2;\n",
              "      height: 32px;\n",
              "      padding: 0 0 0 0;\n",
              "      width: 32px;\n",
              "    }\n",
              "\n",
              "    .colab-df-convert:hover {\n",
              "      background-color: #E2EBFA;\n",
              "      box-shadow: 0px 1px 2px rgba(60, 64, 67, 0.3), 0px 1px 3px 1px rgba(60, 64, 67, 0.15);\n",
              "      fill: #174EA6;\n",
              "    }\n",
              "\n",
              "    [theme=dark] .colab-df-convert {\n",
              "      background-color: #3B4455;\n",
              "      fill: #D2E3FC;\n",
              "    }\n",
              "\n",
              "    [theme=dark] .colab-df-convert:hover {\n",
              "      background-color: #434B5C;\n",
              "      box-shadow: 0px 1px 3px 1px rgba(0, 0, 0, 0.15);\n",
              "      filter: drop-shadow(0px 1px 2px rgba(0, 0, 0, 0.3));\n",
              "      fill: #FFFFFF;\n",
              "    }\n",
              "  </style>\n",
              "\n",
              "      <script>\n",
              "        const buttonEl =\n",
              "          document.querySelector('#df-6db8ab1e-bdf9-4f34-864e-6454a44afcf1 button.colab-df-convert');\n",
              "        buttonEl.style.display =\n",
              "          google.colab.kernel.accessAllowed ? 'block' : 'none';\n",
              "\n",
              "        async function convertToInteractive(key) {\n",
              "          const element = document.querySelector('#df-6db8ab1e-bdf9-4f34-864e-6454a44afcf1');\n",
              "          const dataTable =\n",
              "            await google.colab.kernel.invokeFunction('convertToInteractive',\n",
              "                                                     [key], {});\n",
              "          if (!dataTable) return;\n",
              "\n",
              "          const docLinkHtml = 'Like what you see? Visit the ' +\n",
              "            '<a target=\"_blank\" href=https://colab.research.google.com/notebooks/data_table.ipynb>data table notebook</a>'\n",
              "            + ' to learn more about interactive tables.';\n",
              "          element.innerHTML = '';\n",
              "          dataTable['output_type'] = 'display_data';\n",
              "          await google.colab.output.renderOutput(dataTable, element);\n",
              "          const docLink = document.createElement('div');\n",
              "          docLink.innerHTML = docLinkHtml;\n",
              "          element.appendChild(docLink);\n",
              "        }\n",
              "      </script>\n",
              "    </div>\n",
              "  </div>\n",
              "  "
            ]
          },
          "metadata": {},
          "execution_count": 77
        },
        {
          "output_type": "stream",
          "name": "stdout",
          "text": [
            "time: 13 ms (started: 2022-04-30 21:42:26 +00:00)\n"
          ]
        }
      ]
    },
    {
      "cell_type": "code",
      "source": [
        "test.head()"
      ],
      "metadata": {
        "id": "3LXOWx6bUEzI",
        "outputId": "6f961366-167d-4e9e-c5db-985b6e6f83f4",
        "colab": {
          "base_uri": "https://localhost:8080/",
          "height": 223
        }
      },
      "execution_count": 78,
      "outputs": [
        {
          "output_type": "execute_result",
          "data": {
            "text/plain": [
              "          id  case_num  pn_num  feature_num  \\\n",
              "0  00016_000         0      16            0   \n",
              "1  00016_001         0      16            1   \n",
              "2  00016_002         0      16            2   \n",
              "3  00016_003         0      16            3   \n",
              "4  00016_004         0      16            4   \n",
              "\n",
              "                                          pn_history  \\\n",
              "0  HPI: 17yo M presents with palpitations. Patien...   \n",
              "1  HPI: 17yo M presents with palpitations. Patien...   \n",
              "2  HPI: 17yo M presents with palpitations. Patien...   \n",
              "3  HPI: 17yo M presents with palpitations. Patien...   \n",
              "4  HPI: 17yo M presents with palpitations. Patien...   \n",
              "\n",
              "                                        feature_text  \n",
              "0  Family-history-of-MI-OR-Family-history-of-myoc...  \n",
              "1                 Family-history-of-thyroid-disorder  \n",
              "2                                     Chest-pressure  \n",
              "3                              Intermittent-symptoms  \n",
              "4                                        Lightheaded  "
            ],
            "text/html": [
              "\n",
              "  <div id=\"df-6eba2663-ee2c-49bc-baf4-a7ade6292b64\">\n",
              "    <div class=\"colab-df-container\">\n",
              "      <div>\n",
              "<style scoped>\n",
              "    .dataframe tbody tr th:only-of-type {\n",
              "        vertical-align: middle;\n",
              "    }\n",
              "\n",
              "    .dataframe tbody tr th {\n",
              "        vertical-align: top;\n",
              "    }\n",
              "\n",
              "    .dataframe thead th {\n",
              "        text-align: right;\n",
              "    }\n",
              "</style>\n",
              "<table border=\"1\" class=\"dataframe\">\n",
              "  <thead>\n",
              "    <tr style=\"text-align: right;\">\n",
              "      <th></th>\n",
              "      <th>id</th>\n",
              "      <th>case_num</th>\n",
              "      <th>pn_num</th>\n",
              "      <th>feature_num</th>\n",
              "      <th>pn_history</th>\n",
              "      <th>feature_text</th>\n",
              "    </tr>\n",
              "  </thead>\n",
              "  <tbody>\n",
              "    <tr>\n",
              "      <th>0</th>\n",
              "      <td>00016_000</td>\n",
              "      <td>0</td>\n",
              "      <td>16</td>\n",
              "      <td>0</td>\n",
              "      <td>HPI: 17yo M presents with palpitations. Patien...</td>\n",
              "      <td>Family-history-of-MI-OR-Family-history-of-myoc...</td>\n",
              "    </tr>\n",
              "    <tr>\n",
              "      <th>1</th>\n",
              "      <td>00016_001</td>\n",
              "      <td>0</td>\n",
              "      <td>16</td>\n",
              "      <td>1</td>\n",
              "      <td>HPI: 17yo M presents with palpitations. Patien...</td>\n",
              "      <td>Family-history-of-thyroid-disorder</td>\n",
              "    </tr>\n",
              "    <tr>\n",
              "      <th>2</th>\n",
              "      <td>00016_002</td>\n",
              "      <td>0</td>\n",
              "      <td>16</td>\n",
              "      <td>2</td>\n",
              "      <td>HPI: 17yo M presents with palpitations. Patien...</td>\n",
              "      <td>Chest-pressure</td>\n",
              "    </tr>\n",
              "    <tr>\n",
              "      <th>3</th>\n",
              "      <td>00016_003</td>\n",
              "      <td>0</td>\n",
              "      <td>16</td>\n",
              "      <td>3</td>\n",
              "      <td>HPI: 17yo M presents with palpitations. Patien...</td>\n",
              "      <td>Intermittent-symptoms</td>\n",
              "    </tr>\n",
              "    <tr>\n",
              "      <th>4</th>\n",
              "      <td>00016_004</td>\n",
              "      <td>0</td>\n",
              "      <td>16</td>\n",
              "      <td>4</td>\n",
              "      <td>HPI: 17yo M presents with palpitations. Patien...</td>\n",
              "      <td>Lightheaded</td>\n",
              "    </tr>\n",
              "  </tbody>\n",
              "</table>\n",
              "</div>\n",
              "      <button class=\"colab-df-convert\" onclick=\"convertToInteractive('df-6eba2663-ee2c-49bc-baf4-a7ade6292b64')\"\n",
              "              title=\"Convert this dataframe to an interactive table.\"\n",
              "              style=\"display:none;\">\n",
              "        \n",
              "  <svg xmlns=\"http://www.w3.org/2000/svg\" height=\"24px\"viewBox=\"0 0 24 24\"\n",
              "       width=\"24px\">\n",
              "    <path d=\"M0 0h24v24H0V0z\" fill=\"none\"/>\n",
              "    <path d=\"M18.56 5.44l.94 2.06.94-2.06 2.06-.94-2.06-.94-.94-2.06-.94 2.06-2.06.94zm-11 1L8.5 8.5l.94-2.06 2.06-.94-2.06-.94L8.5 2.5l-.94 2.06-2.06.94zm10 10l.94 2.06.94-2.06 2.06-.94-2.06-.94-.94-2.06-.94 2.06-2.06.94z\"/><path d=\"M17.41 7.96l-1.37-1.37c-.4-.4-.92-.59-1.43-.59-.52 0-1.04.2-1.43.59L10.3 9.45l-7.72 7.72c-.78.78-.78 2.05 0 2.83L4 21.41c.39.39.9.59 1.41.59.51 0 1.02-.2 1.41-.59l7.78-7.78 2.81-2.81c.8-.78.8-2.07 0-2.86zM5.41 20L4 18.59l7.72-7.72 1.47 1.35L5.41 20z\"/>\n",
              "  </svg>\n",
              "      </button>\n",
              "      \n",
              "  <style>\n",
              "    .colab-df-container {\n",
              "      display:flex;\n",
              "      flex-wrap:wrap;\n",
              "      gap: 12px;\n",
              "    }\n",
              "\n",
              "    .colab-df-convert {\n",
              "      background-color: #E8F0FE;\n",
              "      border: none;\n",
              "      border-radius: 50%;\n",
              "      cursor: pointer;\n",
              "      display: none;\n",
              "      fill: #1967D2;\n",
              "      height: 32px;\n",
              "      padding: 0 0 0 0;\n",
              "      width: 32px;\n",
              "    }\n",
              "\n",
              "    .colab-df-convert:hover {\n",
              "      background-color: #E2EBFA;\n",
              "      box-shadow: 0px 1px 2px rgba(60, 64, 67, 0.3), 0px 1px 3px 1px rgba(60, 64, 67, 0.15);\n",
              "      fill: #174EA6;\n",
              "    }\n",
              "\n",
              "    [theme=dark] .colab-df-convert {\n",
              "      background-color: #3B4455;\n",
              "      fill: #D2E3FC;\n",
              "    }\n",
              "\n",
              "    [theme=dark] .colab-df-convert:hover {\n",
              "      background-color: #434B5C;\n",
              "      box-shadow: 0px 1px 3px 1px rgba(0, 0, 0, 0.15);\n",
              "      filter: drop-shadow(0px 1px 2px rgba(0, 0, 0, 0.3));\n",
              "      fill: #FFFFFF;\n",
              "    }\n",
              "  </style>\n",
              "\n",
              "      <script>\n",
              "        const buttonEl =\n",
              "          document.querySelector('#df-6eba2663-ee2c-49bc-baf4-a7ade6292b64 button.colab-df-convert');\n",
              "        buttonEl.style.display =\n",
              "          google.colab.kernel.accessAllowed ? 'block' : 'none';\n",
              "\n",
              "        async function convertToInteractive(key) {\n",
              "          const element = document.querySelector('#df-6eba2663-ee2c-49bc-baf4-a7ade6292b64');\n",
              "          const dataTable =\n",
              "            await google.colab.kernel.invokeFunction('convertToInteractive',\n",
              "                                                     [key], {});\n",
              "          if (!dataTable) return;\n",
              "\n",
              "          const docLinkHtml = 'Like what you see? Visit the ' +\n",
              "            '<a target=\"_blank\" href=https://colab.research.google.com/notebooks/data_table.ipynb>data table notebook</a>'\n",
              "            + ' to learn more about interactive tables.';\n",
              "          element.innerHTML = '';\n",
              "          dataTable['output_type'] = 'display_data';\n",
              "          await google.colab.output.renderOutput(dataTable, element);\n",
              "          const docLink = document.createElement('div');\n",
              "          docLink.innerHTML = docLinkHtml;\n",
              "          element.appendChild(docLink);\n",
              "        }\n",
              "      </script>\n",
              "    </div>\n",
              "  </div>\n",
              "  "
            ]
          },
          "metadata": {},
          "execution_count": 78
        },
        {
          "output_type": "stream",
          "name": "stdout",
          "text": [
            "time: 8.55 ms (started: 2022-04-30 21:42:26 +00:00)\n"
          ]
        }
      ]
    },
    {
      "cell_type": "markdown",
      "source": [
        "### Dataset"
      ],
      "metadata": {
        "id": "e35rBE3XjzYC"
      }
    },
    {
      "cell_type": "code",
      "source": [
        "class NBMEDataset(Dataset):\n",
        "  def __init__(self, data: pd.DataFrame, tokenizer: AutoTokenizer, config: Config,\n",
        "               testing: bool = False):\n",
        "    self.data = data\n",
        "    self.tokenizer = tokenizer\n",
        "    self.config = config\n",
        "    self.testing = testing\n",
        "\n",
        "  def __len__(self):\n",
        "    return len(self.data)\n",
        "\n",
        "  def __getitem__(self, idx: int):\n",
        "    sample = self.data.iloc[idx]\n",
        "\n",
        "    encoded = self.tokenizer(\n",
        "      sample['pn_history'],\n",
        "      sample['feature_text'],\n",
        "      # TODO: Compute max length of sequences\n",
        "      max_length=self.config.sequence_max_length,\n",
        "      padding='max_length',\n",
        "      truncation='only_second',\n",
        "      return_offsets_mapping=True,\n",
        "    )\n",
        "    encoded['sequence_ids'] = encoded.sequence_ids()\n",
        "\n",
        "    x = encoded.copy()\n",
        "    x['input_ids'] = np.array(x['input_ids'])\n",
        "    x['attention_mask'] = np.array(x['attention_mask'])\n",
        "    x['offset_mapping'] = np.array(x['offset_mapping'])\n",
        "    x['sequence_ids'] = np.array(x['sequence_ids']).astype('float16')\n",
        "\n",
        "    if self.testing:\n",
        "      return x\n",
        "\n",
        "    location_spans = locations_to_spans(literal_eval(sample['location']))\n",
        "    labels = generate_labels(location_spans, encoded['sequence_ids'],\n",
        "                             encoded['offset_mapping'])\n",
        "    labels = np.array(labels).astype('float32')\n",
        "    return x, labels"
      ],
      "metadata": {
        "id": "Gv_EALppj4VC",
        "outputId": "9f788dd8-913c-4d08-8bc0-ebb9516e76b5",
        "colab": {
          "base_uri": "https://localhost:8080/"
        }
      },
      "execution_count": 79,
      "outputs": [
        {
          "output_type": "stream",
          "name": "stdout",
          "text": [
            "time: 20.8 ms (started: 2022-04-30 21:42:26 +00:00)\n"
          ]
        }
      ]
    },
    {
      "cell_type": "code",
      "source": [
        "train_dataset = NBMEDataset(train, tokenizer, Config)\n",
        "valid_dataset = NBMEDataset(valid, tokenizer, Config)\n",
        "test_dataset = NBMEDataset(test, tokenizer, Config, testing=True)"
      ],
      "metadata": {
        "id": "zAGgrY6H2Sq3",
        "outputId": "444e5a95-ec53-4e5b-8d0b-c185f5c054e4",
        "colab": {
          "base_uri": "https://localhost:8080/"
        }
      },
      "execution_count": 80,
      "outputs": [
        {
          "output_type": "stream",
          "name": "stdout",
          "text": [
            "time: 1.67 ms (started: 2022-04-30 21:42:26 +00:00)\n"
          ]
        }
      ]
    },
    {
      "cell_type": "markdown",
      "source": [
        "### Data Loader"
      ],
      "metadata": {
        "id": "ZUUGjQBL-wyV"
      }
    },
    {
      "cell_type": "code",
      "source": [
        "def get_data_loader(config: Config, dataset, training: bool):\n",
        "  if config.device_name == 'tpu':\n",
        "    sampler = DistributedSampler(\n",
        "      dataset,\n",
        "      num_replicas=xm.xrt_world_size(),\n",
        "      rank=xm.get_ordinal(),\n",
        "      shuffle=training)\n",
        "    return DataLoader(\n",
        "      dataset,\n",
        "      batch_size=Config.batch_size,\n",
        "      sampler=sampler,\n",
        "      drop_last=True)\n",
        "\n",
        "  return DataLoader(\n",
        "      dataset,\n",
        "      batch_size=config.batch_size,\n",
        "    shuffle=training)"
      ],
      "metadata": {
        "colab": {
          "base_uri": "https://localhost:8080/"
        },
        "id": "YJ23zucg-yfm",
        "outputId": "7b175cf5-a2a1-456c-da52-9e8340501dca"
      },
      "execution_count": 91,
      "outputs": [
        {
          "output_type": "stream",
          "name": "stdout",
          "text": [
            "time: 2.76 ms (started: 2022-04-30 21:51:41 +00:00)\n"
          ]
        }
      ]
    },
    {
      "cell_type": "markdown",
      "source": [
        "## Model"
      ],
      "metadata": {
        "id": "PzznXRtpOYaS"
      }
    },
    {
      "cell_type": "code",
      "source": [
        "class NBMEDebertaBaseline(nn.Module):\n",
        "  def __init__(self):\n",
        "    super().__init__()\n",
        "\n",
        "    config = AutoConfig.from_pretrained(Config.model)\n",
        "    self.model = AutoModel.from_pretrained(Config.model, config=config)\n",
        "\n",
        "    self.fc1 = nn.Linear(config.hidden_size, 1)\n",
        "\n",
        "  def forward(self, input_ids, attention_mask):\n",
        "    hidden_states = self.model(input_ids=input_ids, attention_mask=attention_mask)\n",
        "    logits = self.fc1(hidden_states[0])\n",
        "    logits = logits.squeeze(-1)\n",
        "    return logits"
      ],
      "metadata": {
        "id": "6XiPIjKPOZeQ",
        "outputId": "976e94c8-4f13-42c0-f9e4-4f1113192432",
        "colab": {
          "base_uri": "https://localhost:8080/"
        }
      },
      "execution_count": 82,
      "outputs": [
        {
          "output_type": "stream",
          "name": "stdout",
          "text": [
            "time: 5.09 ms (started: 2022-04-30 21:42:26 +00:00)\n"
          ]
        }
      ]
    },
    {
      "cell_type": "code",
      "source": [
        "model = NBMEDebertaBaseline()"
      ],
      "metadata": {
        "id": "4c0UimsMUS9m",
        "outputId": "d85d1bd8-58a2-4413-b9e0-79b426201fa0",
        "colab": {
          "base_uri": "https://localhost:8080/"
        }
      },
      "execution_count": 83,
      "outputs": [
        {
          "output_type": "stream",
          "name": "stderr",
          "text": [
            "Some weights of the model checkpoint at microsoft/deberta-base were not used when initializing DebertaModel: ['lm_predictions.lm_head.LayerNorm.bias', 'lm_predictions.lm_head.dense.weight', 'lm_predictions.lm_head.dense.bias', 'lm_predictions.lm_head.bias', 'lm_predictions.lm_head.LayerNorm.weight']\n",
            "- This IS expected if you are initializing DebertaModel from the checkpoint of a model trained on another task or with another architecture (e.g. initializing a BertForSequenceClassification model from a BertForPreTraining model).\n",
            "- This IS NOT expected if you are initializing DebertaModel from the checkpoint of a model that you expect to be exactly identical (initializing a BertForSequenceClassification model from a BertForSequenceClassification model).\n"
          ]
        },
        {
          "output_type": "stream",
          "name": "stdout",
          "text": [
            "time: 2.12 s (started: 2022-04-30 21:42:26 +00:00)\n"
          ]
        }
      ]
    },
    {
      "cell_type": "markdown",
      "source": [
        "## Training"
      ],
      "metadata": {
        "id": "Yg0_Tq_qSlKS"
      }
    },
    {
      "cell_type": "markdown",
      "source": [
        "### Loss Function"
      ],
      "metadata": {
        "id": "beCZADg97Xnt"
      }
    },
    {
      "cell_type": "code",
      "source": [
        "# This loss combines a Sigmoid layer and the BCELoss in one single class.\n",
        "# This version is more numerically stable than using a plain Sigmoid followed\n",
        "# by a BCELoss as, by combining the operations into one layer, we take advantage\n",
        "# of the log-sum-exp trick for numerical stability.\n",
        "criterion = nn.BCEWithLogitsLoss(reduction='none')\n",
        "\n",
        "def loss_fn(logits, labels):\n",
        "  loss = criterion(logits, labels)\n",
        "  loss = torch.masked_select(loss, labels >= 0)\n",
        "  loss = loss.mean()\n",
        "  return loss"
      ],
      "metadata": {
        "id": "0-9krz4uK4Wy",
        "outputId": "32ed3a1e-1a59-4b89-b8e8-95591a266290",
        "colab": {
          "base_uri": "https://localhost:8080/"
        }
      },
      "execution_count": 84,
      "outputs": [
        {
          "output_type": "stream",
          "name": "stdout",
          "text": [
            "time: 3.09 ms (started: 2022-04-30 21:42:29 +00:00)\n"
          ]
        }
      ]
    },
    {
      "cell_type": "markdown",
      "source": [
        "### Train / Valid Functions"
      ],
      "metadata": {
        "id": "rbsWJ-x-7bz6"
      }
    },
    {
      "cell_type": "code",
      "source": [
        "def train_fn(model, device, data_loader):\n",
        "  optimizer = torch.optim.AdamW(model.parameters(), lr=Config.learning_rate)\n",
        "\n",
        "  all_loss = []\n",
        "\n",
        "  for idx, (x, labels) in enumerate(tqdm(data_loader)):\n",
        "    optimizer.zero_grad()\n",
        "\n",
        "    input_ids = x['input_ids'].to(device)\n",
        "    attention_mask = x['attention_mask'].to(device)\n",
        "    labels = labels.to(device)\n",
        "\n",
        "    logits = model(input_ids, attention_mask)\n",
        "    loss = loss_fn(logits, labels)\n",
        "    all_loss.append(loss.item() * input_ids.size(0))\n",
        "\n",
        "    loss.backward()\n",
        "    \n",
        "    if Config.device_name == 'tpu':\n",
        "      xm.optimizer_step(optimizer)\n",
        "    else:\n",
        "      optimizer.step()\n",
        "\n",
        "  all_loss = np.mean(all_loss)\n",
        "  return all_loss\n",
        "\n",
        "def test_fn(model, device, data_loader):\n",
        "  model.eval()\n",
        "\n",
        "  true_spans = []\n",
        "  all_logits = []\n",
        "  all_offsets = []\n",
        "  all_sequence_ids = []\n",
        "  all_loss = []\n",
        "  \n",
        "  for x, labels in tqdm(data_loader):\n",
        "    true_spans.append(labels)\n",
        "    \n",
        "    input_ids = x['input_ids'].to(device)\n",
        "    attention_mask = x['attention_mask'].to(device)\n",
        "    labels = labels.to(device)\n",
        "\n",
        "    with torch.no_grad():\n",
        "      logits = model(input_ids, attention_mask)\n",
        "    loss = loss_fn(logits, labels)\n",
        "    all_loss.append(loss.item() * input_ids.size(0))\n",
        "\n",
        "    all_logits.append(logits.detach().cpu().numpy())\n",
        "    all_offsets.append(x['offset_mapping'].numpy())\n",
        "    all_sequence_ids.append(x['sequence_ids'].numpy())\n",
        "  \n",
        "  all_logits = np.concatenate(all_logits, axis=0)\n",
        "  all_offsets = np.concatenate(all_offsets, axis=0)\n",
        "  all_sequence_ids = np.concatenate(all_sequence_ids, axis=0)\n",
        "  true_spans = np.concatenate(true_spans, axis=0)\n",
        "\n",
        "  pred_spans = logits_to_spans(all_logits, all_offsets, all_sequence_ids)\n",
        "  print(len(pred_spans))\n",
        "  print('pred_spans:', pred_spans)\n",
        "  true_spans = logits_to_spans(true_spans, all_offsets, all_sequence_ids)\n",
        "  score = span_micro_f1(pred_spans, true_spans)\n",
        "  all_loss = np.mean(all_loss)\n",
        "  return all_loss, score"
      ],
      "metadata": {
        "id": "j3_PD6hISmJ7",
        "outputId": "66fe11dd-2424-4fb8-9977-b8d1e9d2e4d5",
        "colab": {
          "base_uri": "https://localhost:8080/"
        }
      },
      "execution_count": 92,
      "outputs": [
        {
          "output_type": "stream",
          "name": "stdout",
          "text": [
            "time: 39.7 ms (started: 2022-04-30 21:51:44 +00:00)\n"
          ]
        }
      ]
    },
    {
      "cell_type": "markdown",
      "source": [
        "### Train Loop"
      ],
      "metadata": {
        "id": "RdjA0Dgy6plj"
      }
    },
    {
      "cell_type": "code",
      "source": [
        "def train_loop_non_tpu():\n",
        "  device = torch.device('cuda' if torch.cuda.is_available() else 'cpu')\n",
        "  print(f'Device: {device}')\n",
        "\n",
        "  model.to(device)\n",
        "\n",
        "  train_loader = get_data_loader(Config, train_dataset)\n",
        "\n",
        "  for epoch in range(Config.epochs):\n",
        "    print(f'Epoch: {epoch}')\n",
        "    \n",
        "    train_loss = train_fn(model, device, train_loader)\n",
        "    print(f'Train loss: {train_loss}')\n",
        "\n",
        "    torch.save(model.state_dict(), f'{Config.output_dir}/models/model.pth')\n",
        "\n",
        "def train_loop_tpu(index):\n",
        "  device = xm.xla_device()\n",
        "  print(f'Process {index} is using {xm.xla_real_devices([str(device)])[0]}')\n",
        "\n",
        "  model.to(device)\n",
        "\n",
        "  train_loader = get_data_loader(Config, train_dataset, True)\n",
        "  train_loader = pl.MpDeviceLoader(train_loader, device)\n",
        "\n",
        "  for epoch in range(Config.epochs):\n",
        "    train_fn(model, device, train_loader)\n",
        "\n",
        "  # Barrier to prevent master from exiting before workers connect.\n",
        "  xm.rendezvous('init')\n",
        "\n",
        "if Config.device_name == 'tpu':\n",
        "  xmp.spawn(train_loop_tpu, args=(), nprocs=Config.tpu_cores, start_method='fork')\n",
        "else:\n",
        "  train_loop_non_tpu()"
      ],
      "metadata": {
        "id": "tFcCvtu4UfLW",
        "outputId": "14781545-636b-4f6a-a9f3-b61392f0b417",
        "colab": {
          "base_uri": "https://localhost:8080/",
          "height": 118,
          "referenced_widgets": [
            "619096296f1e4eecb6497011ca276c2f",
            "8625131dd12a44fc967c366a4550599d",
            "08e28b73989d454fa45b03b3f4462b7f",
            "5e4e577ac270410da8c21422837f068f",
            "4c214ca5c9354d44a22ef4560093e69b",
            "570754717d1c42dd87c0415125ab113b",
            "fdc02845057f4675b27c75e97c17e36e",
            "db766e2a7d1b41cdacccd95bcf202522",
            "cf88463e2b8a484f9a732da161621b02",
            "3cc664cd9d454c05884c47681c9a751f",
            "e3e7d5a692ee4e178d9ec8f59aefb255"
          ]
        }
      },
      "execution_count": 86,
      "outputs": [
        {
          "output_type": "stream",
          "name": "stdout",
          "text": [
            "Device: cuda\n",
            "Epoch: 0\n"
          ]
        },
        {
          "output_type": "display_data",
          "data": {
            "text/plain": [
              "  0%|          | 0/1418 [00:00<?, ?it/s]"
            ],
            "application/vnd.jupyter.widget-view+json": {
              "version_major": 2,
              "version_minor": 0,
              "model_id": "619096296f1e4eecb6497011ca276c2f"
            }
          },
          "metadata": {}
        },
        {
          "output_type": "stream",
          "name": "stdout",
          "text": [
            "Train loss: 0.17022312804054973\n",
            "time: 7min 6s (started: 2022-04-30 21:42:29 +00:00)\n"
          ]
        }
      ]
    },
    {
      "cell_type": "code",
      "source": [
        "def valid_non_tpu():\n",
        "  device = torch.device('cuda' if torch.cuda.is_available() else 'cpu')\n",
        "  print(f'Device: {device}')\n",
        "\n",
        "  model.load_state_dict(torch.load(f'{Config.output_dir}/models/model.pth', map_location=device))\n",
        "\n",
        "  valid_loader = get_data_loader(Config, valid_dataset, False)\n",
        "\n",
        "  valid_loss = test_fn(model, device, valid_loader)\n",
        "  print(f'Valid loss: {valid_loss}')\n",
        "\n",
        "valid_non_tpu()"
      ],
      "metadata": {
        "id": "OhTOUIsbU6xs",
        "outputId": "77c94240-dcfb-4d2f-a022-b8169c012901",
        "colab": {
          "base_uri": "https://localhost:8080/",
          "height": 156,
          "referenced_widgets": [
            "cf9c8984876e4b779261c069191a29bc",
            "f71b0c78404c403b95ddbdd641e50690",
            "728a81f7f997409d9c1942f5d9c278fc",
            "c0236c276adb4e62820f4efe930066d3",
            "24f85d187dac4b3aa4c183de6801bcc7",
            "80509d89e8814a2393133933bb327562",
            "b5064e177d7748d0b9aa75efcc246059",
            "25bc344be60c49369ddac2cca45ffd80",
            "ae50731db0c74922a4ed15b605e9fc1d",
            "1a908398fdbe4041b958014ace5d6fd3",
            "a8e8932316ef42fe969ac8a453221323"
          ]
        }
      },
      "execution_count": 94,
      "outputs": [
        {
          "output_type": "stream",
          "name": "stdout",
          "text": [
            "Device: cuda\n"
          ]
        },
        {
          "output_type": "display_data",
          "data": {
            "text/plain": [
              "  0%|          | 0/370 [00:00<?, ?it/s]"
            ],
            "application/vnd.jupyter.widget-view+json": {
              "version_major": 2,
              "version_minor": 0,
              "model_id": "cf9c8984876e4b779261c069191a29bc"
            }
          },
          "metadata": {}
        },
        {
          "output_type": "stream",
          "name": "stdout",
          "text": [
            "2958\n",
            "pred_spans: [[], [(431, 443)], [], [(62, 87), (88, 89)], [], [], [(399, 401)], [], [], [], [(41, 45), (62, 89)], [(0, 2)], [], [(496, 506)], [(531, 543)], [], [(96, 110)], [], [], [], [(228, 235)], [], [(75, 80)], [(101, 104)], [], [], [(915, 922)], [(894, 908)], [(197, 214)], [], [], [(339, 344)], [(532, 535), (678, 681), (852, 855)], [(230, 237)], [(387, 399)], [(85, 88)], [(40, 48)], [], [], [(573, 583)], [(420, 427)], [(240, 247)], [(147, 151)], [(269, 276)], [], [], [], [], [], [(28, 36)], [(0, 5)], [], [], [(748, 761)], [], [(296, 303)], [(368, 374)], [(519, 524)], [(700, 703)], [], [], [], [(50, 52)], [], [], [(932, 936)], [], [], [(125, 145)], [(201, 208)], [], [(507, 509), (664, 667), (777, 779)], [], [], [(9, 11)], [(63, 76), (131, 132), (138, 145)], [], [], [(900, 904)], [(930, 942)], [], [(126, 128)], [], [], [(306, 308)], [(556, 563)], [], [(84, 91)], [(126, 128)], [], [], [], [(361, 369)], [], [(36, 41)], [], [(174, 186)], [], [(85, 92)], [], [], [(23, 36)], [(4, 12)], [], [(684, 688)], [(659, 671)], [], [(224, 226)], [], [(437, 450)], [(541, 544)], [], [], [(140, 149)], [(169, 173), (783, 790)], [], [], [(578, 596)], [(608, 621)], [], [], [(293, 300)], [], [(364, 366), (506, 508)], [(314, 321)], [], [(48, 57)], [(17, 19)], [(0, 2)], [], [(471, 472)], [(490, 499)], [], [], [], [], [(130, 134)], [], [], [(96, 98), (107, 115)], [(59, 67)], [], [], [(820, 833)], [(877, 890)], [(295, 316)], [(188, 191)], [(271, 277)], [], [(565, 568)], [], [], [(201, 204), (856, 861)], [(29, 33)], [(0, 4)], [], [], [(865, 873)], [(433, 454)], [(102, 104)], [], [], [(619, 621), (834, 836)], [], [], [(237, 240), (271, 281)], [(79, 84), (102, 104), (126, 131), (811, 817)], [], [], [(657, 675)], [(610, 616), (632, 649), (658, 661)], [], [(117, 126)], [], [], [(713, 716)], [], [], [], [(87, 105)], [(28, 33)], [], [(658, 668)], [(628, 642)], [], [], [(406, 412)], [], [], [], [], [(44, 51)], [(63, 72)], [], [], [(933, 935)], [(893, 912)], [], [(110, 113)], [], [], [(676, 679)], [], [], [], [(61, 64), (110, 113)], [], [], [(681, 686)], [(647, 669)], [], [], [(336, 342)], [], [(410, 417)], [], [], [(42, 49)], [(408, 417)], [(0, 2)], [], [(678, 687)], [(649, 661)], [], [], [], [], [(363, 365), (523, 525)], [(264, 267)], [], [(38, 43)], [(154, 156)], [], [], [(630, 635)], [(668, 671)], [(185, 194)], [(96, 105)], [(545, 547)], [], [(694, 696)], [], [(258, 268), (270, 271)], [(51, 54), (642, 645), (648, 650)], [(70, 81), (253, 254), (718, 720)], [(7, 9)], [], [(600, 602)], [(600, 614)], [], [(63, 67)], [], [(382, 387)], [], [], [], [], [(24, 40), (65, 67)], [(0, 2)], [], [(267, 270), (274, 278)], [], [(499, 526)], [(188, 190), (229, 231)], [(0, 2)], [(239, 248)], [(337, 369)], [(54, 59)], [(274, 278)], [], [(54, 59)], [(39, 44)], [], [], [(402, 407), (416, 424)], [(766, 822)], [(182, 186), (216, 232)], [], [(271, 274)], [], [(36, 50)], [(460, 468)], [], [(554, 568)], [(59, 68)], [], [(717, 735)], [], [(789, 818)], [], [(0, 2)], [(437, 443)], [(91, 97)], [(75, 76)], [], [], [(654, 664)], [(110, 118)], [], [], [], [(477, 502), (511, 529)], [], [(0, 2)], [], [], [(233, 244)], [], [], [(107, 109)], [(104, 109)], [], [(342, 347)], [], [(732, 767), (777, 793)], [(347, 348)], [], [(341, 348), (506, 512)], [(393, 435), (546, 562)], [(52, 63), (415, 416)], [(341, 347), (415, 416)], [(243, 246)], [(664, 674)], [(86, 97)], [], [], [], [(572, 595), (603, 618)], [(157, 165)], [(0, 7)], [], [(43, 51)], [(112, 127)], [], [], [(495, 520), (528, 554)], [(77, 85), (611, 618)], [], [(603, 611)], [], [(735, 754)], [(230, 234)], [(20, 25)], [(211, 214)], [(196, 214)], [(80, 95)], [], [], [(541, 550)], [(113, 118)], [], [], [], [(508, 533)], [(131, 132)], [(20, 25)], [(366, 386)], [], [(79, 80), (131, 132)], [(396, 402), (406, 426)], [], [(461, 475)], [(526, 533)], [], [(415, 423)], [], [(534, 555)], [(247, 272)], [(0, 2)], [(295, 308)], [(167, 210)], [(37, 52)], [], [], [(481, 497)], [(65, 76)], [], [], [], [(511, 527)], [], [(10, 15)], [], [(147, 200)], [(34, 45)], [], [], [(34, 35), (621, 633)], [(85, 98)], [], [(50, 59)], [], [(780, 788), (794, 803), (810, 815), (828, 848)], [], [], [], [(500, 538)], [(50, 59)], [], [], [(348, 366), (379, 395)], [(98, 107)], [], [], [], [], [(300, 302), (368, 382)], [], [(410, 420)], [(97, 112)], [(97, 112)], [], [], [(773, 783)], [(189, 200)], [], [(532, 534)], [], [(482, 514), (685, 693), (720, 752)], [(188, 192), (244, 254)], [], [], [(140, 165)], [(19, 20)], [], [(380, 383)], [(19, 20), (460, 472), (666, 671)], [(25, 37)], [], [(96, 98), (99, 100), (246, 250), (263, 267)], [(290, 305)], [], [], [(344, 348), (367, 374)], [], [], [], [], [], [(246, 253)], [], [(44, 108), (124, 151), (156, 181)], [(58, 67), (276, 280)], [], [], [(30, 33)], [(113, 128), (140, 180)], [], [], [], [(531, 535), (539, 544), (550, 552)], [(140, 141)], [(648, 683)], [(648, 653)], [], [], [(33, 35), (98, 106), (113, 128)], [(648, 653)], [(165, 200), (262, 290)], [(98, 106)], [], [], [(26, 29)], [(82, 130)], [], [], [], [(488, 492), (538, 545)], [], [], [], [], [], [(31, 32), (158, 164)], [], [(140, 169), (184, 215), (236, 257)], [(30, 31), (156, 169)], [], [], [], [(73, 110), (126, 127), (163, 180)], [(197, 199)], [], [], [(540, 544), (911, 915)], [(46, 52), (169, 173)], [], [(355, 368)], [], [], [(197, 199), (307, 322)], [], [(108, 116), (125, 127), (163, 180), (228, 268), (285, 296)], [(25, 37), (188, 199)], [], [], [(0, 2)], [(142, 144), (267, 273), (298, 308)], [(734, 740)], [], [], [(341, 345), (349, 363)], [], [(267, 281)], [], [], [], [(151, 156), (168, 173)], [], [(179, 183), (196, 208), (242, 255)], [(51, 58), (267, 281)], [(460, 474)], [], [], [(498, 510)], [], [], [], [(253, 257)], [(144, 152)], [], [], [], [], [(385, 397)], [], [(119, 132), (144, 163), (175, 209)], [(68, 72), (77, 79), (152, 158)], [], [], [], [(255, 259), (387, 391)], [], [], [], [], [(118, 128), (166, 185), (255, 268)], [], [], [], [], [], [], [(108, 128), (145, 185), (195, 222), (227, 268), (271, 286)], [(97, 105), (791, 799)], [], [], [(32, 37)], [(551, 559)], [], [], [], [(435, 438)], [(108, 110)], [(336, 350)], [], [], [], [(499, 501), (505, 508), (524, 535)], [], [(217, 221), (234, 252)], [(132, 140), (580, 586)], [], [], [(0, 7)], [(699, 702)], [(548, 569), (593, 596)], [(513, 518)], [], [(482, 486)], [(85, 107)], [], [], [], [], [(449, 465), (558, 569)], [(186, 189)], [(80, 115)], [(66, 68)], [], [], [], [], [(439, 446)], [(317, 320)], [(828, 833)], [], [], [], [(106, 108)], [], [], [(102, 108), (115, 120)], [], [(127, 146)], [(89, 91)], [], [], [], [(268, 298), (348, 350)], [(268, 298)], [], [], [(464, 468), (855, 859)], [(116, 127)], [(394, 401)], [], [], [], [(268, 298)], [], [(214, 218), (231, 252)], [(100, 102)], [], [], [], [(201, 217)], [(201, 217)], [], [(636, 641)], [(444, 469)], [(107, 111), (121, 141)], [(692, 703)], [], [], [], [(201, 217), (271, 276)], [], [(107, 111), (121, 141), (160, 169), (181, 190)], [(201, 217), (364, 366)], [(404, 418)], [(508, 522)], [(0, 5)], [(168, 183), (262, 270)], [], [], [], [(327, 331), (359, 367)], [], [], [], [], [], [(168, 183), (646, 648)], [], [(74, 105)], [(148, 152), (157, 159), (176, 183)], [(376, 390)], [], [(26, 31)], [(197, 219), (227, 240)], [], [], [(648, 656)], [], [], [], [], [], [], [(7, 9), (63, 68), (197, 207), (474, 482)], [], [(125, 155), (168, 179)], [(61, 68)], [(816, 819)], [], [(0, 4)], [], [(496, 503)], [], [(398, 407), (431, 439)], [(547, 550)], [], [], [], [], [], [(272, 279)], [], [(90, 94), (233, 237), (249, 260)], [(163, 169)], [], [(344, 347)], [(24, 30)], [(49, 114)], [], [], [], [], [(109, 114)], [(306, 312)], [], [], [], [], [], [(98, 114), (198, 216)], [(10, 21), (109, 114)], [], [], [(0, 5)], [], [(555, 571)], [], [], [(251, 261)], [(87, 99)], [], [], [], [], [(139, 144)], [], [(87, 91), (139, 158), (182, 187), (334, 335), (340, 344)], [(66, 68)], [(251, 267)], [], [], [(65, 90), (95, 106)], [], [], [], [], [(22, 26), (87, 90)], [], [], [], [], [(434, 436)], [], [(22, 26), (104, 106), (215, 222)], [(34, 45), (145, 156)], [(316, 324)], [(297, 300), (316, 319), (337, 342)], [(0, 5)], [(113, 128), (144, 163)], [], [], [], [(374, 378)], [(0, 1), (54, 59), (144, 151)], [], [(259, 269)], [], [], [(0, 7), (31, 39), (78, 84)], [], [(0, 1), (54, 89), (144, 161)], [(0, 7), (78, 87)], [], [], [], [(108, 173), (340, 348)], [], [], [(574, 579), (587, 608)], [(243, 260)], [], [], [], [], [], [(340, 348)], [], [(67, 93)], [(28, 30), (72, 80)], [], [], [(22, 25)], [], [], [], [], [(401, 405)], [], [(417, 419)], [(581, 586)], [], [], [(341, 356), (451, 456)], [(417, 419)], [(31, 44), (146, 174), (191, 213)], [(109, 113), (118, 124)], [(480, 488)], [], [(0, 2)], [(86, 95), (185, 200)], [], [], [], [], [], [], [], [], [], [(45, 53), (185, 200)], [], [(115, 128), (132, 140), (153, 177)], [(45, 53)], [], [], [(0, 2)], [(252, 276), (282, 295), (300, 325)], [], [], [], [], [(119, 127)], [(372, 382)], [], [], [], [(252, 272)], [(372, 373)], [(45, 51), (100, 130)], [(43, 51)], [], [], [], [(95, 100), (114, 146)], [(452, 473), (477, 485), (520, 523)], [], [(266, 277), (300, 307)], [(395, 398)], [(6, 17), (57, 61)], [], [], [], [], [(367, 379)], [], [(6, 17), (57, 61), (407, 421), (437, 441)], [(78, 80)], [], [], [(32, 37)], [(400, 439), (447, 464)], [(641, 669)], [(573, 577)], [], [], [(57, 67), (129, 139)], [(641, 645), (651, 655), (662, 664)], [], [], [], [(9, 10), (129, 136)], [], [(57, 67), (129, 139), (167, 192), (213, 229), (244, 290)], [(181, 190)], [(620, 627)], [], [(0, 2)], [], [(739, 743), (765, 782)], [], [], [(235, 239)], [], [], [], [], [], [(50, 55), (715, 730)], [], [(70, 123)], [(53, 55)], [], [], [(0, 2)], [(55, 56), (64, 127)], [(565, 572), (576, 595)], [], [(464, 467)], [], [(218, 228)], [(381, 387)], [], [], [], [(19, 24)], [], [(140, 142), (173, 181), (190, 228), (235, 251), (260, 273)], [(17, 24), (584, 591)], [], [], [(0, 2)], [(585, 602)], [(51, 59), (156, 164)], [(383, 391), (398, 401), (406, 408)], [], [], [(224, 228), (248, 250), (260, 265)], [(44, 48), (112, 118), (129, 142), (250, 251)], [(276, 277)], [], [(27, 29), (406, 408)], [(195, 209)], [], [], [(276, 288)], [], [(0, 2)], [(618, 636)], [(37, 48)], [(257, 262)], [], [], [], [(89, 102), (130, 151), (155, 169)], [(89, 91), (93, 102)], [], [(89, 102)], [], [(285, 294)], [(37, 39)], [(363, 371)], [(309, 311)], [(6, 8)], [(661, 683)], [(33, 41)], [(392, 407)], [], [], [(431, 432)], [(200, 208), (227, 241)], [(13, 19), (752, 760)], [], [(9, 19)], [(272, 288)], [], [], [(190, 208), (226, 241)], [], [(0, 2)], [(543, 580)], [(61, 76)], [(334, 338)], [], [], [(175, 183)], [(89, 94), (112, 121), (146, 160), (175, 197)], [], [], [(112, 114)], [], [], [(154, 160)], [(532, 533)], [], [(16, 21)], [(534, 559)], [(125, 128), (138, 153)], [(411, 426)], [], [], [], [(125, 147), (150, 158), (173, 215)], [(181, 190), (715, 722)], [], [(173, 175), (181, 190)], [(362, 371)], [], [], [(247, 297), (509, 510)], [], [], [(750, 787)], [(133, 141)], [(419, 422)], [], [], [(224, 240)], [(224, 240)], [(682, 695)], [], [(28, 30), (71, 80)], [], [], [], [(251, 272), (291, 328), (685, 687), (689, 691)], [], [(0, 2)], [(727, 740)], [(18, 33)], [(345, 353)], [], [], [(250, 251)], [(42, 51), (72, 74), (78, 79), (86, 88)], [(46, 51), (418, 424)], [], [(42, 51), (418, 424)], [], [(250, 251)], [(60, 64)], [(125, 136)], [(205, 207)], [(7, 9)], [(663, 681)], [(45, 53)], [(469, 472)], [], [], [], [(169, 204), (217, 239)], [(729, 739)], [], [(30, 32), (480, 482)], [], [], [(194, 204)], [], [], [(0, 8)], [(908, 927)], [(24, 32)], [], [], [], [], [(99, 107), (117, 126)], [(117, 126), (771, 779)], [], [(63, 65), (280, 282)], [(117, 126), (147, 159)], [], [(99, 107)], [(463, 493)], [], [(0, 2)], [(489, 495), (510, 523)], [(83, 91)], [(205, 208)], [], [(66, 68)], [], [(120, 122)], [], [], [(120, 122)], [], [], [], [(237, 250)], [], [(7, 12)], [(577, 588)], [(35, 46)], [], [], [], [(246, 260)], [(39, 41), (50, 52)], [(217, 221)], [], [(50, 52), (215, 221)], [], [(226, 235), (246, 247)], [], [(177, 178)], [(266, 270)], [(4, 6)], [], [(56, 64)], [(323, 330)], [(241, 245)], [], [], [], [(32, 48)], [], [(32, 48)], [], [], [], [], [], [], [(581, 605)], [(49, 57)], [(236, 245)], [(533, 537)], [], [], [(80, 87)], [], [], [(65, 67), (255, 257)], [], [(278, 298)], [], [], [], [], [], [(45, 53)], [(451, 466)], [], [], [(329, 343)], [(105, 129)], [(45, 53), (115, 129)], [], [(115, 117)], [], [], [(118, 119)], [(237, 255), (258, 285)], [], [(0, 7)], [(878, 901)], [(47, 55)], [(343, 346)], [], [], [(427, 442)], [(161, 192), (205, 214), (228, 240)], [(777, 797)], [], [(78, 80), (372, 374)], [(94, 125)], [], [(228, 232)], [(247, 258)], [], [], [(606, 637)], [(72, 80), (91, 99)], [], [(28, 30), (489, 491), (495, 497)], [(174, 178)], [], [(235, 259), (295, 318), (328, 350)], [(497, 509), (666, 674), (684, 698)], [], [(47, 49), (112, 123)], [], [], [(249, 259)], [(370, 388)], [], [(0, 2)], [], [(113, 119)], [(329, 336)], [], [], [(401, 414)], [(41, 49), (92, 96)], [], [], [(41, 49), (377, 385)], [(487, 492)], [(401, 402)], [], [(232, 250)], [(371, 373)], [(0, 4)], [(471, 474)], [(61, 70)], [(352, 355)], [], [], [(295, 299)], [(75, 82), (99, 101), (120, 122)], [(724, 728)], [], [(75, 77), (90, 94), (99, 101)], [(162, 171)], [(465, 474)], [], [(206, 253), (633, 634)], [], [(21, 24)], [], [(50, 58)], [(342, 345)], [], [], [], [(357, 359), (602, 606)], [(74, 83)], [], [(74, 83)], [], [(372, 378)], [], [], [(429, 432)], [], [(713, 727), (734, 750)], [(100, 121)], [(504, 516)], [], [(315, 319)], [], [(180, 199), (254, 275)], [(155, 162)], [], [(146, 162)], [(290, 306)], [(563, 575)], [], [(397, 444), (472, 475)], [], [(20, 25)], [], [], [(276, 285)], [], [(106, 116)], [], [(27, 30), (50, 91)], [(563, 569)], [], [(50, 52), (89, 91)], [(348, 377)], [], [], [(187, 212), (687, 688)], [], [(0, 2)], [], [], [], [], [], [(434, 435)], [], [], [], [], [], [], [(146, 154)], [], [], [], [(235, 243)], [], [(207, 217)], [(0, 2)], [], [], [], [(244, 256), (263, 264)], [], [(560, 563)], [], [], [(592, 595)], [(0, 2)], [(599, 602), (726, 729)], [], [(202, 226), (231, 235), (241, 263)], [], [], [], [(382, 390)], [], [(337, 340)], [(0, 2)], [(832, 835)], [(48, 55)], [(265, 286)], [(432, 444)], [], [], [], [], [], [(15, 20)], [(444, 455), (462, 468), (483, 493), (506, 508)], [(16, 19)], [(234, 274)], [], [], [(513, 517)], [(101, 103)], [], [(309, 315)], [(4, 6)], [(668, 685), (721, 724)], [], [(284, 308), (325, 351)], [(462, 474)], [], [], [], [], [], [(0, 2)], [(388, 391)], [], [(215, 219)], [], [(202, 209), (215, 219)], [(215, 219)], [], [], [(535, 538)], [], [(239, 242)], [], [], [], [], [], [(456, 464)], [], [], [(19, 26)], [(506, 509)], [], [], [(775, 782), (783, 792)], [], [(460, 463)], [], [], [(366, 371)], [(4, 7)], [(324, 327), (356, 358)], [], [(117, 137), (192, 198), (222, 230)], [], [], [], [], [], [], [], [(323, 332)], [], [], [(588, 595)], [], [(98, 100)], [], [], [], [(13, 16)], [], [], [(453, 457), (465, 483), (518, 539)], [], [], [], [(369, 377)], [], [], [(17, 22)], [], [], [(204, 206), (258, 262)], [], [(429, 432)], [], [], [], [(319, 329)], [(19, 24)], [(519, 539), (566, 569)], [], [], [], [], [], [], [], [(190, 193)], [(17, 22)], [(162, 170), (225, 231)], [], [], [(492, 494)], [(99, 102), (141, 146), (187, 190)], [(223, 231), (418, 419)], [], [], [], [(208, 231), (271, 275), (311, 316)], [(492, 494)], [(271, 275)], [(519, 530)], [(503, 512), (519, 522)], [(357, 362)], [], [(271, 275)], [(17, 22)], [(118, 126), (143, 149)], [], [], [], [(98, 101)], [(118, 126), (135, 149)], [], [(614, 622)], [], [(135, 149), (162, 172), (182, 188)], [], [(182, 188)], [], [], [(207, 218)], [], [], [(17, 23)], [(120, 134)], [], [], [], [(105, 108), (274, 277)], [(37, 46), (120, 134), (153, 156), (166, 180)], [], [], [], [(153, 180), (192, 211)], [(253, 256), (314, 327)], [(232, 238)], [], [(253, 256)], [], [], [], [], [(251, 259)], [], [(371, 387)], [], [(25, 28), (586, 589)], [(40, 42), (165, 179), (240, 259), (521, 530)], [], [], [], [(40, 42), (147, 212)], [(306, 319)], [(515, 517)], [], [], [(75, 95)], [], [(511, 530)], [(0, 2)], [(147, 149)], [], [], [(237, 244)], [(49, 52)], [(69, 94)], [], [], [], [(88, 94), (165, 166), (290, 293)], [], [], [(220, 226)], [(267, 271)], [], [], [], [(0, 2)], [(63, 71), (73, 79), (116, 122)], [], [], [(345, 363)], [(47, 50)], [(116, 131), (163, 175)], [], [(864, 874)], [], [(98, 108), (116, 158)], [], [(431, 448)], [(377, 388)], [(412, 422)], [], [], [(501, 542)], [], [(107, 121)], [], [], [(512, 519)], [(56, 59), (88, 95), (261, 264)], [(155, 169), (177, 208)], [], [], [], [(146, 169), (177, 185), (291, 294)], [(415, 429)], [], [(492, 497)], [], [(229, 240)], [], [(568, 575)], [], [(188, 203)], [], [(786, 800), (806, 812)], [(551, 554)], [(89, 96)], [(272, 286)], [], [(844, 865)], [], [(221, 258), (272, 286), (331, 337)], [], [], [], [], [], [], [(725, 732)], [(10, 13)], [(61, 76), (89, 91)], [], [], [], [(31, 34), (534, 537)], [(46, 52), (61, 84), (89, 123)], [], [], [], [(89, 123), (238, 244), (266, 267)], [], [(210, 223)], [], [], [(342, 355)], [(420, 421)], [(492, 497)], [(7, 12)], [], [], [], [], [(499, 504)], [(467, 487)], [(107, 112)], [(899, 904)], [], [(71, 77), (137, 166), (189, 218)], [], [(235, 241)], [(334, 340)], [(334, 340)], [], [], [(107, 112)], [(17, 22)], [(374, 380)], [], [], [(246, 253)], [(92, 95)], [(405, 410), (419, 425), (507, 508), (510, 534)], [], [(795, 800)], [], [(394, 408), (419, 425)], [(191, 216)], [(347, 358)], [(268, 274)], [(291, 298)], [(896, 901)], [], [], [(0, 7)], [(303, 305)], [], [], [(441, 448)], [(93, 96), (281, 284)], [(131, 139), (168, 217)], [], [(814, 820), (833, 838)], [], [(334, 348)], [], [(654, 660)], [], [], [(570, 575)], [], [(898, 910)], [(15, 20)], [(60, 68)], [], [], [(217, 219)], [(29, 32), (43, 46)], [(85, 95)], [], [], [], [(85, 95), (101, 125), (133, 139)], [(303, 316), (321, 328)], [], [], [], [(159, 164), (175, 186)], [], [(757, 770)], [(0, 2)], [(74, 79)], [], [], [(217, 224)], [(58, 65), (94, 97)], [(114, 128), (139, 157)], [(343, 349)], [], [], [(114, 128), (139, 157)], [(268, 281)], [], [], [], [(194, 198)], [], [(558, 562)], [(7, 12)], [(116, 131), (166, 172)], [], [], [], [(602, 605)], [(108, 116), (139, 172)], [], [], [], [(158, 172), (240, 245), (253, 275)], [], [(185, 197)], [(334, 340)], [], [], [], [(240, 241)], [], [(123, 125)], [], [], [(302, 303)], [(83, 86), (110, 113)], [(141, 176), (807, 816)], [(486, 492)], [(902, 905)], [(274, 279)], [(141, 176)], [(189, 194), (232, 248)], [(316, 322)], [(260, 265)], [(287, 295)], [(460, 467)], [], [(803, 816)], [(0, 8)], [(54, 61)], [], [], [(257, 270)], [(202, 225)], [(579, 582)], [], [(935, 939)], [], [(336, 347), (375, 376), (411, 418)], [(110, 137)], [], [(314, 317)], [(298, 307), (314, 317)], [(434, 438), (457, 468)], [], [], [(0, 2)], [], [], [(889, 899)], [(518, 527)], [(78, 81), (178, 181), (261, 264), (341, 344)], [(93, 142), (178, 181), (187, 199)], [], [(790, 795)], [], [(191, 199)], [], [(355, 371)], [], [], [], [], [(424, 449)], [], [(305, 306)], [], [(807, 812)], [(388, 395)], [(70, 75), (258, 263)], [(59, 75), (85, 110)], [(585, 591)], [(789, 792), (796, 798)], [], [(59, 64), (85, 94)], [(448, 466)], [(835, 837)], [], [], [(492, 502)], [], [], [], [(61, 67)], [], [], [], [(45, 48), (99, 102)], [(398, 399)], [], [(858, 862)], [], [(180, 185), (195, 229), (236, 242)], [], [(440, 467)], [(121, 127)], [(166, 169)], [(280, 291)], [], [(566, 583)], [(0, 2)], [(62, 76), (91, 99)], [], [], [], [(42, 44)], [(85, 102)], [], [(399, 412)], [(200, 202), (220, 222)], [(85, 102), (108, 114), (147, 150)], [], [(164, 180)], [(246, 248)], [(26, 28)], [(200, 208), (210, 213)], [(255, 257)], [(108, 114)], [(4, 8)], [(53, 58)], [], [], [], [(85, 88), (200, 203)], [(85, 88), (100, 153), (173, 178)], [], [], [], [(114, 153), (173, 178), (221, 237), (242, 250)], [], [(291, 306)], [(428, 442)], [(412, 421)], [], [], [(440, 442)], [(0, 2)], [], [], [(0, 5)], [], [(173, 191)], [(503, 518)], [], [], [], [], [(271, 293), (302, 312)], [(173, 181)], [], [], [(0, 2)], [(409, 411)], [(176, 186)], [(25, 33)], [], [], [], [], [(272, 298)], [(203, 206)], [(449, 451)], [], [], [(405, 416)], [], [(655, 663)], [], [(52, 55)], [], [], [(334, 367)], [(219, 227)], [], [], [], [(263, 271)], [(121, 131)], [], [], [(73, 75)], [(334, 341)], [], [(174, 204)], [], [], [], [(0, 2)], [], [(168, 175), (180, 194)], [(71, 75)], [], [], [], [], [], [(193, 194)], [], [], [(0, 2)], [(213, 224), (236, 242)], [(94, 99)], [(315, 323)], [], [(31, 41)], [], [], [(159, 172)], [(73, 82)], [], [], [], [(335, 336)], [(125, 133)], [(498, 506)], [], [], [], [], [(220, 243)], [], [], [], [(0, 5)], [(526, 530)], [(215, 237)], [(526, 541)], [], [(94, 112)], [], [(484, 492), (876, 882)], [(598, 603)], [(180, 181)], [], [], [(17, 22)], [], [(268, 278)], [(707, 715)], [], [(203, 225)], [], [], [(419, 424), (426, 434), (443, 461)], [(268, 271)], [], [], [(0, 4)], [(273, 279)], [(127, 142)], [(545, 553)], [], [(57, 63)], [(404, 408)], [(324, 340), (352, 360)], [(61, 63), (221, 240)], [(352, 356)], [], [], [(10, 12)], [(467, 469)], [(256, 264), (276, 281)], [(89, 94), (554, 564)], [], [(129, 137)], [], [], [(210, 218)], [(256, 257)], [], [], [], [(205, 208), (304, 306)], [(140, 164)], [(46, 54), (461, 469)], [], [(83, 87)], [], [], [(531, 533)], [], [(260, 263)], [], [(0, 5)], [(271, 303)], [(137, 143), (177, 179), (181, 182), (186, 198)], [(537, 557)], [], [(29, 40)], [(91, 93)], [], [(568, 573)], [(110, 119), (125, 126)], [], [], [], [(235, 282)], [(184, 189)], [(235, 241), (247, 282)], [], [], [], [], [(136, 144)], [], [], [], [(16, 22)], [(84, 91), (112, 113)], [(291, 306)], [(151, 159)], [], [(84, 86)], [], [(151, 152)], [(181, 198)], [(291, 294)], [], [], [(0, 2)], [(243, 249)], [(156, 166)], [(549, 566)], [], [(35, 37)], [], [], [(194, 206), (585, 587)], [], [], [], [], [], [(85, 95)], [], [], [(46, 50)], [(422, 429)], [], [(333, 346), (348, 353)], [], [], [], [(17, 19)], [(425, 426)], [(197, 202)], [(520, 528), (535, 569)], [], [(125, 129)], [], [], [(235, 258), (261, 264), (272, 279)], [(140, 144)], [], [], [], [(179, 180)], [(52, 54), (277, 287)], [(511, 519)], [], [(119, 129)], [], [], [(235, 240)], [], [(412, 414)], [], [], [(379, 380)], [(168, 192), (519, 529)], [(613, 621)], [], [(40, 44)], [], [(446, 451)], [(649, 652)], [], [], [], [(0, 2)], [(149, 155)], [(52, 55)], [(370, 378), (576, 584)], [], [], [], [], [(96, 123)], [], [], [], [(38, 43)], [], [(169, 174), (246, 265)], [(539, 547)], [], [(63, 67)], [(458, 471)], [], [(206, 235)], [], [(200, 202)], [], [(14, 17)], [(333, 334)], [(364, 372)], [(510, 518)], [], [(59, 63), (181, 190)], [], [], [(188, 190)], [], [], [], [(17, 22)], [], [(172, 182)], [(392, 400)], [], [], [(247, 249)], [], [(337, 342), (364, 368)], [], [(387, 390)], [], [(0, 2)], [], [(222, 235)], [(535, 543)], [], [], [(448, 455)], [], [(283, 306)], [(151, 171), (222, 223)], [], [(543, 546)], [(76, 86), (103, 128)], [(103, 141), (185, 187)], [], [], [(451, 461)], [(0, 5)], [(134, 141)], [], [], [(21, 26), (40, 45), (72, 80), (137, 153)], [(72, 80)], [(434, 435)], [], [(272, 284)], [(7, 10)], [(40, 45)], [], [(424, 432)], [(111, 113), (148, 154), (179, 192)], [(55, 57), (655, 666)], [(387, 397)], [], [(308, 315)], [(0, 7)], [], [], [(423, 429)], [(75, 83), (146, 159), (200, 217), (262, 274)], [(116, 120)], [], [], [], [(18, 23)], [(116, 127)], [], [(636, 642)], [(59, 69), (412, 429)], [], [(793, 798), (818, 825)], [], [(130, 153), (170, 172)], [(0, 8)], [(25, 31)], [], [(345, 348)], [(56, 73), (91, 93), (113, 156)], [(171, 188), (197, 198), (213, 215), (310, 324)], [], [], [], [(0, 2)], [(296, 303), (364, 371)], [], [(605, 610)], [(221, 225), (230, 232), (250, 257), (436, 448)], [(3, 9), (145, 160), (175, 189)], [(715, 723), (766, 781)], [], [], [], [(189, 195), (197, 204)], [], [(258, 273)], [(15, 21), (109, 121), (136, 148), (164, 166), (179, 200)], [(27, 32), (47, 57)], [(581, 588)], [], [(320, 330)], [(0, 2)], [(282, 289)], [], [(321, 332)], [(158, 162), (192, 200), (259, 279)], [(192, 207), (332, 336)], [(885, 893), (920, 928), (942, 944)], [], [(534, 541)], [(0, 7)], [], [], [(192, 207)], [(20, 21), (82, 87), (113, 121)], [(82, 98), (207, 209)], [(376, 380)], [], [], [(7, 9)], [(34, 42), (214, 220), (629, 633)], [], [(617, 626)], [(17, 20), (26, 28), (173, 183), (206, 216), (270, 272), (287, 303)], [(199, 227)], [(932, 940)], [], [(415, 421)], [(0, 2)], [(105, 112), (229, 236)], [], [], [(172, 200)], [], [(308, 312)], [], [(360, 373)], [(19, 22)], [(72, 76), (81, 83)], [], [(161, 170)], [(94, 101), (710, 720)], [(110, 114), (131, 142), (710, 727)], [(241, 245), (253, 261)], [], [(324, 338)], [(7, 12)], [], [(476, 480)], [(66, 68), (174, 179), (187, 191), (195, 198)], [], [], [(131, 135)], [(21, 24)], [(86, 94)], [], [(66, 68)], [], [(249, 270)], [], [], [], [], [(109, 112)], [(607, 620)], [], [], [(42, 44), (56, 73)], [], [(465, 498)], [(117, 123)], [], [(96, 104)], [(216, 220)], [(42, 44)], [], [(216, 220), (224, 227), (231, 238), (246, 264)], [], [(533, 543)], [(406, 410)], [], [(151, 154)], [(650, 654)], [(96, 104), (167, 168), (170, 171)], [], [(167, 178), (794, 796)], [], [], [], [(17, 20)], [(621, 626)], [], [], [], [], [], [(326, 329)], [], [(682, 705)], [(210, 216), (235, 253), (272, 290)], [(427, 431), (445, 447)], [], [], [(60, 69), (82, 89)], [], [], [], [(0, 2)], [(110, 118)], [], [(60, 69), (82, 89)], [], [(391, 396)], [], [], [], [(716, 727), (740, 746)], [(135, 138)], [(391, 396), (403, 406), (409, 413)], [], [], [(57, 58), (248, 259)], [], [(323, 362)], [(113, 118)], [], [], [(374, 376)], [(55, 58)], [], [(405, 433)], [], [(546, 549)], [], [(786, 792)], [(124, 131)], [(563, 576)], [], [], [(33, 35), (107, 126)], [], [], [], [(0, 5)], [(70, 78)], [], [(33, 35)], [], [(250, 254), (266, 282)], [], [], [], [], [], [], [], [], [(32, 34), (339, 359)], [], [], [], [(0, 2)], [(150, 158)], [], [(32, 34), (353, 359)], [], [], [], [], [], [], [], [(367, 380)], [], [], [(276, 290)], [], [(448, 450), (492, 496)], [(142, 145)], [(17, 19)], [(71, 93)], [], [], [(365, 366)], [(628, 639)], [(189, 198)], [(326, 334)], [], [(671, 681)], [(163, 182)], [(506, 519)], [], [], [(105, 127)], [], [], [], [(46, 48)], [(467, 480)], [], [(83, 85)], [], [(402, 413), (420, 440)], [], [(167, 170)], [], [(744, 745)], [], [(287, 300)], [(435, 440)], [], [(91, 99)], [], [], [], [(0, 8)], [(203, 214), (396, 403)], [], [(91, 99)], [(371, 380)], [(45, 47)], [], [(444, 447)], [], [], [(229, 245)], [(496, 512)], [(261, 263)], [], [(237, 245), (291, 296), (746, 748)], [], [], [], [(21, 26)], [(187, 200)], [], [(237, 245)], [], [(323, 342), (370, 385)], [], [], [], [(897, 899)], [], [(470, 490)], [], [(254, 265), (311, 313)], [(42, 43), (66, 75), (211, 218)], [(66, 69)], [], [(66, 69)], [(4, 8)], [(93, 104), (112, 118), (176, 179)], [(60, 75)], [(40, 43), (66, 75)], [(66, 69)], [(169, 171)], [], [(176, 188)], [(66, 75)], [(66, 75)], [(42, 43), (130, 132)], [(375, 388)], [(66, 75)], [], [(29, 32), (54, 68), (298, 302)], [], [(425, 452)], [], [(0, 2)], [(134, 142), (291, 302)], [], [(29, 32), (54, 68)], [], [], [], [(319, 322)], [], [(742, 746)], [], [], [], [(563, 568)], [(28, 33), (109, 134)], [], [(675, 688)], [], [(0, 2)], [(55, 63)], [(203, 214)], [(28, 33), (128, 134)], [], [(199, 234)], [], [], [], [], [], [(914, 918)], [(91, 96)], [], [(92, 100), (128, 132)], [], [], [], [(0, 2)], [(128, 132), (295, 316)], [], [(92, 100)], [], [(570, 592)], [], [], [], [(911, 915)], [(339, 355)], [(607, 621)], [(58, 61)], [], [(77, 79), (102, 119)], [], [], [], [(21, 24)], [(191, 199)], [], [(77, 79)], [], [], [], [(375, 379)], [], [(662, 664)], [], [], [], [], [(126, 134), (161, 169)], [], [(518, 554), (621, 630)], [], [(0, 2)], [(77, 86)], [], [(126, 134)], [(216, 220)], [(281, 290)], [], [], [], [(567, 582), (818, 822)], [(83, 86), (103, 106)], [(387, 396), (405, 409)], [], [], [(33, 54), (99, 100)], [], [], [], [], [], [], [(46, 54), (99, 100)], [], [], [], [(271, 274)], [], [], [(185, 189)], [(290, 295)], [], [], [(122, 130), (157, 159)], [], [(473, 512)], [], [(17, 22)], [(182, 190)], [], [(122, 130)], [], [], [], [], [(493, 512)], [(805, 816)], [(224, 240)], [(430, 437)], [], [], [(49, 51), (147, 167)], [], [(246, 272)], [], [], [], [], [(49, 51), (161, 167)], [], [], [(197, 200)], [(279, 285)], [], [], [(100, 103)], [(282, 285)], [(64, 70)], [], [(41, 48), (257, 268)], [], [(501, 529), (534, 554)], [], [(17, 20)], [], [(172, 179)], [(41, 48)], [], [(172, 183), (212, 225)], [], [], [], [], [], [], [], [], [(34, 36), (51, 58), (63, 68), (74, 80)], [], [(331, 362)], [], [(0, 5)], [(135, 148), (375, 388)], [], [(34, 36), (74, 80)], [(440, 444)], [], [], [], [], [], [(160, 170)], [], [], [(577, 586)], [(128, 135), (148, 171), (173, 182)], [], [], [(262, 266)], [(17, 22)], [], [], [(175, 182), (399, 401)], [(531, 541)], [(346, 357), (362, 364)], [], [], [], [(793, 796)], [(95, 98)], [(626, 641)], [], [(143, 148), (626, 633)], [(0, 2)], [(35, 39)], [], [], [], [], [], [], [(305, 307)], [], [], [(357, 372)], [], [(208, 211)], [], [], [(219, 226), (236, 249)], [], [(78, 82)], [(372, 375)], [], [], [], [], [], [], [], [(721, 735)], [], [], [], [(497, 500)], [], [(167, 174), (184, 204)], [(18, 21)], [], [], [], [], [], [], [], [(365, 367)], [], [], [], [], [(438, 448)], [(864, 880)], [], [(413, 423), (429, 433)], [], [], [], [], [], [], [], [], [], [(656, 671)], [], [(574, 588)], [], [], [], [], [(97, 109), (119, 122), (128, 132)], [], [(27, 28)], [], [], [], [(200, 202)], [], [], [], [], [(330, 337)], [(486, 490)], [], [], [(287, 297)], [], [(257, 292)], [(24, 29)], [(87, 97)], [], [], [], [], [], [], [], [], [], [(729, 742)], [], [], [], [], [(161, 165), (175, 197), (594, 597)], [(0, 4)], [], [], [(137, 152)], [], [], [], [], [], [], [], [(601, 619), (632, 641)], [], [], [], [], [(189, 219), (221, 224), (227, 231)], [], [], [], [], [], [], [], [], [], [(612, 633)], [(523, 526)], [(484, 489)], [], [], [(581, 585)], [], [], [(7, 9)], [], [], [(36, 38)], [], [(111, 115)], [], [(101, 103)], [], [(86, 88)], [], [(363, 377)], [], [], [(16, 18)], [], [(222, 230)], [(20, 23)], [(89, 111)], [], [], [], [], [], [], [], [], [(469, 499)], [(668, 680)], [], [], [(469, 499)], [(390, 392)], [(343, 349), (358, 377)], [], [], [], [], [], [(468, 470)], [], [], [(215, 220)], [], [(722, 741)], [(759, 772)], [], [], [(624, 632)], [(264, 267)], [(203, 229), (235, 239)], [(19, 22)], [(90, 100)], [(325, 328)], [], [], [], [], [], [(374, 376)], [(754, 772)], [], [(664, 670), (686, 698)], [], [], [(728, 735)], [], [(162, 165)], [(18, 20)], [(38, 42)], [], [], [], [], [], [], [(507, 511)], [], [], [], [], [], [], [], [(174, 193), (200, 203), (588, 591)], [(0, 2)], [], [], [], [], [], [], [], [(318, 320), (334, 335)], [], [], [(621, 622)], [], [], [], [], [(134, 145), (153, 156)], [(22, 28)], [], [], [], [], [], [], [(396, 400)], [], [(740, 745)], [(603, 617)], [(644, 653)], [], [(421, 427)], [], [], [], [], [], [], [], [], [], [], [], [(416, 418), (435, 436)], [(709, 735)], [], [(536, 560)], [], [(204, 207)], [(369, 378)], [], [(182, 195), (201, 205)], [], [(75, 79)], [], [], [], [], [], [], [(433, 434), (446, 448)], [(612, 625)], [], [(729, 742)], [], [], [], [(317, 320)], [(129, 133), (161, 164)], [(0, 2)], [], [], [], [], [], [], [], [(313, 332)], [(637, 647)], [(529, 537)], [(583, 587), (591, 594)], [], [], [(373, 381)], [], [], [], [], [], [(121, 141)], [], [], [], [], [], [(655, 665)], [(531, 539)], [], [], [], [], [], [(188, 199), (206, 209)], [], [], [], [], [], [], [], [], [], [], [], [(478, 485), (492, 500)], [], [(341, 349)], [], [], [(475, 478), (492, 496)], [], [], [], [], [], [], [], [], [], [], [], [(647, 658)], [], [], [], [(359, 362)]]\n",
            "Valid loss: (0.13308822471346404, 0.015187988281250002)\n",
            "time: 54 s (started: 2022-04-30 21:52:13 +00:00)\n"
          ]
        }
      ]
    },
    {
      "cell_type": "markdown",
      "source": [
        "## Inference"
      ],
      "metadata": {
        "id": "3hycpJFVg0n9"
      }
    },
    {
      "cell_type": "code",
      "source": [
        "def infer_fn():\n",
        "  device = torch.device('cuda' if torch.cuda.is_available() else 'cpu')\n",
        "  print(f'Device: {device}')\n",
        "\n",
        "  model.load_state_dict(torch.load(f'{Config.output_dir}/models/model.pth', map_location=device))\n",
        "\n",
        "  test_loader = get_data_loader(Config, test_dataset, False)\n",
        "\n",
        "infer_fn()"
      ],
      "metadata": {
        "id": "iJnrh4_3g2Nw",
        "outputId": "0e9eba4a-34f6-41b4-9ae3-0588bb751506",
        "colab": {
          "base_uri": "https://localhost:8080/"
        }
      },
      "execution_count": 88,
      "outputs": [
        {
          "output_type": "stream",
          "name": "stdout",
          "text": [
            "time: 11.2 ms (started: 2022-04-30 21:49:36 +00:00)\n"
          ]
        }
      ]
    }
  ]
}