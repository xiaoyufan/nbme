{
  "nbformat": 4,
  "nbformat_minor": 0,
  "metadata": {
    "colab": {
      "name": "baseline-deberta.ipynb",
      "provenance": [],
      "authorship_tag": "ABX9TyMg32iauHawRUJSelBw1mz9",
      "include_colab_link": true
    },
    "kernelspec": {
      "name": "python3",
      "display_name": "Python 3"
    },
    "language_info": {
      "name": "python"
    }
  },
  "cells": [
    {
      "cell_type": "markdown",
      "metadata": {
        "id": "view-in-github",
        "colab_type": "text"
      },
      "source": [
        "<a href=\"https://colab.research.google.com/github/xiaoyufan/nbme/blob/main/baseline_deberta.ipynb\" target=\"_parent\"><img src=\"https://colab.research.google.com/assets/colab-badge.svg\" alt=\"Open In Colab\"/></a>"
      ]
    },
    {
      "cell_type": "markdown",
      "source": [
        "# NBME Baseline DeBERTa"
      ],
      "metadata": {
        "id": "XoauZTv1ekis"
      }
    },
    {
      "cell_type": "markdown",
      "source": [
        "## Configurations"
      ],
      "metadata": {
        "id": "jWPOFAMmescu"
      }
    },
    {
      "cell_type": "markdown",
      "source": [
        "## Packages"
      ],
      "metadata": {
        "id": "8PAFcMWfep6h"
      }
    },
    {
      "cell_type": "code",
      "execution_count": 1,
      "metadata": {
        "id": "fevyPYAS06FJ",
        "colab": {
          "base_uri": "https://localhost:8080/"
        },
        "outputId": "2b9fb603-d5c7-4df5-a2c7-1ade5515521c"
      },
      "outputs": [
        {
          "output_type": "stream",
          "name": "stdout",
          "text": [
            "Collecting git+https://github.com/xiaoyufan/nbme.git\n",
            "  Cloning https://github.com/xiaoyufan/nbme.git to /tmp/pip-req-build-hp_jjddi\n",
            "  Running command git clone -q https://github.com/xiaoyufan/nbme.git /tmp/pip-req-build-hp_jjddi\n",
            "Building wheels for collected packages: nbme\n",
            "  Building wheel for nbme (setup.py) ... \u001b[?25l\u001b[?25hdone\n",
            "  Created wheel for nbme: filename=nbme-1.0-py3-none-any.whl size=1876 sha256=6876ebcd812db9041bfcd15d1cb55860f14e7225af42fa077887da6bf04a0fae\n",
            "  Stored in directory: /tmp/pip-ephem-wheel-cache-e1cqjiop/wheels/e2/dc/dd/b061e30220e414c0a096e4fbaddd405c1b526d1453d9a447e3\n",
            "Successfully built nbme\n",
            "Installing collected packages: nbme\n",
            "Successfully installed nbme-1.0\n"
          ]
        }
      ],
      "source": [
        "!pip install --upgrade git+https://github.com/xiaoyufan/nbme.git"
      ]
    },
    {
      "cell_type": "code",
      "source": [
        "from nbme_utils import scoring"
      ],
      "metadata": {
        "id": "8yvdXJKZFje_"
      },
      "execution_count": 2,
      "outputs": []
    }
  ]
}