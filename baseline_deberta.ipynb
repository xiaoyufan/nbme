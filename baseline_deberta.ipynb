{
  "nbformat": 4,
  "nbformat_minor": 0,
  "metadata": {
    "colab": {
      "name": "baseline-deberta.ipynb",
      "provenance": [],
      "authorship_tag": "ABX9TyMcbQcf1diRzW7cr2Qz0+2a",
      "include_colab_link": true
    },
    "kernelspec": {
      "name": "python3",
      "display_name": "Python 3"
    },
    "language_info": {
      "name": "python"
    }
  },
  "cells": [
    {
      "cell_type": "markdown",
      "metadata": {
        "id": "view-in-github",
        "colab_type": "text"
      },
      "source": [
        "<a href=\"https://colab.research.google.com/github/xiaoyufan/nbme/blob/main/baseline_deberta.ipynb\" target=\"_parent\"><img src=\"https://colab.research.google.com/assets/colab-badge.svg\" alt=\"Open In Colab\"/></a>"
      ]
    },
    {
      "cell_type": "code",
      "execution_count": null,
      "metadata": {
        "id": "fevyPYAS06FJ"
      },
      "outputs": [],
      "source": [
        "!pip install --upgrade git+https://github.com/xiaoyufan/nbme.git"
      ]
    },
    {
      "cell_type": "code",
      "source": [
        "from nbme_utils import scoring"
      ],
      "metadata": {
        "id": "8yvdXJKZFje_"
      },
      "execution_count": null,
      "outputs": []
    }
  ]
}